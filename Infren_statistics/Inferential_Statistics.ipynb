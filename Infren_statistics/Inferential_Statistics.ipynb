{
 "cells": [
  {
   "cell_type": "code",
   "execution_count": 1,
   "id": "e877137b",
   "metadata": {},
   "outputs": [],
   "source": [
    "#Permutation:\n",
    "# 1.n!\n",
    "# 2.(n-r)!\n",
    "# 3.n!/(n-r)!\n",
    "\n",
    "# order/arrange a group of objects\n",
    "\n",
    "#factorial\n",
    "\n",
    "\n",
    "# Python 3 program to find\n",
    "# factorial of given number\n",
    " \n",
    "def factorial(n):\n",
    "    # single line to find factorial\n",
    "    return 1 if (n==1 or n==0) else n * factorial(n - 1)"
   ]
  },
  {
   "cell_type": "code",
   "execution_count": null,
   "id": "621f5c30",
   "metadata": {},
   "outputs": [],
   "source": []
  },
  {
   "cell_type": "code",
   "execution_count": 2,
   "id": "1a5f5c27",
   "metadata": {},
   "outputs": [
    {
     "data": {
      "text/plain": [
       "720"
      ]
     },
     "execution_count": 2,
     "metadata": {},
     "output_type": "execute_result"
    }
   ],
   "source": [
    "factorial(6)"
   ]
  },
  {
   "cell_type": "code",
   "execution_count": 8,
   "id": "b049549f",
   "metadata": {},
   "outputs": [
    {
     "data": {
      "text/plain": [
       "6"
      ]
     },
     "execution_count": 8,
     "metadata": {},
     "output_type": "execute_result"
    }
   ],
   "source": [
    "factorial(3)"
   ]
  },
  {
   "cell_type": "code",
   "execution_count": 9,
   "id": "5074cdf7",
   "metadata": {},
   "outputs": [
    {
     "data": {
      "text/plain": [
       "120.0"
      ]
     },
     "execution_count": 9,
     "metadata": {},
     "output_type": "execute_result"
    }
   ],
   "source": [
    "720/6"
   ]
  },
  {
   "cell_type": "markdown",
   "id": "7a1eab19",
   "metadata": {},
   "source": [
    "##### Combination\n",
    " n!/[(n-r)!*r!]\n",
    "  pick/choose a group of objects"
   ]
  },
  {
   "cell_type": "markdown",
   "id": "7c6077d9",
   "metadata": {},
   "source": [
    "##### Probability: Definition and Properties\n",
    "\n",
    "probability = number of desire outcomes/ total number of possible out comes\n",
    "\n",
    "probability = Total number of outcomes in event /total number of outcome in sample space"
   ]
  },
  {
   "cell_type": "markdown",
   "id": "e37c37cb",
   "metadata": {},
   "source": [
    "Concepts of probability\n",
    "Let's say you have a box containing five cards with the letters 'B', 'R', 'E', 'A' and 'D' written on them. Now, you are asked to pick a card randomly from the box, and each time you pick a card, you note down the letter written on it and keep the card outside the box. You continued this process five times until no cards were left in the box. What is the probability that you picked the letters in the same sequence as the word 'BREAD'?"
   ]
  },
  {
   "cell_type": "code",
   "execution_count": 2,
   "id": "832cdbde",
   "metadata": {},
   "outputs": [
    {
     "data": {
      "text/plain": [
       "120"
      ]
     },
     "execution_count": 2,
     "metadata": {},
     "output_type": "execute_result"
    }
   ],
   "source": [
    "#it's in ordered  n=5 ,r=1 n!/(n-r)!\n",
    "factorial(5)"
   ]
  },
  {
   "cell_type": "code",
   "execution_count": 3,
   "id": "ce55be3f",
   "metadata": {},
   "outputs": [
    {
     "data": {
      "text/plain": [
       "24"
      ]
     },
     "execution_count": 3,
     "metadata": {},
     "output_type": "execute_result"
    }
   ],
   "source": [
    "factorial(4)"
   ]
  },
  {
   "cell_type": "markdown",
   "id": "8982d103",
   "metadata": {},
   "source": [
    "Feedback:\n",
    "For calculating the probability, you first need to find the number of outcomes in the sample space, i.e., the number of ways in which you can pick five letters from the box. This is a case of permutation since the order is of importance for forming a word. Therefore, the total number of outcomes in the sample space is 5! =120. The event here would be the outcome where you pick the cards in the exact sequence 'BREAD'. Hence, the total number of outcomes in the event would be 1. Since probability = (Total number of outcomes in the event)/(Total number of outcomes in sample space), this value comes out to be 1/120\n",
    "\n",
    "\n",
    "Answer : 1/120"
   ]
  },
  {
   "cell_type": "code",
   "execution_count": 7,
   "id": "c1de7608",
   "metadata": {},
   "outputs": [
    {
     "data": {
      "text/plain": [
       "2"
      ]
     },
     "execution_count": 7,
     "metadata": {},
     "output_type": "execute_result"
    }
   ],
   "source": [
    "factorial(2)"
   ]
  },
  {
   "cell_type": "code",
   "execution_count": 11,
   "id": "0075902d",
   "metadata": {},
   "outputs": [
    {
     "data": {
      "text/plain": [
       "0.4"
      ]
     },
     "execution_count": 11,
     "metadata": {},
     "output_type": "execute_result"
    }
   ],
   "source": [
    "1-0.6"
   ]
  },
  {
   "cell_type": "code",
   "execution_count": null,
   "id": "18b746dd",
   "metadata": {},
   "outputs": [],
   "source": [
    " 0.1+ 0.2 +0.3 + x +3x = 0.6 + 4x"
   ]
  },
  {
   "cell_type": "code",
   "execution_count": 12,
   "id": "ee98de2a",
   "metadata": {},
   "outputs": [
    {
     "data": {
      "text/plain": [
       "0.1"
      ]
     },
     "execution_count": 12,
     "metadata": {},
     "output_type": "execute_result"
    }
   ],
   "source": [
    "# 0.6 + 4x = 1\n",
    "# 4x=1-0.6\n",
    "x=0.4/4\n",
    "x"
   ]
  },
  {
   "cell_type": "code",
   "execution_count": null,
   "id": "f4d9a120",
   "metadata": {},
   "outputs": [],
   "source": [
    "ABC -> more than 500 ->0.9\n",
    "XYZ ?\n",
    "x"
   ]
  },
  {
   "cell_type": "markdown",
   "id": "62d60392",
   "metadata": {},
   "source": [
    "Addition rule:\n",
    "\n",
    "A and B are two candidates applying for the job role of an analyst at a leading analytics firm in Delhi. They have cleared all the previous rounds and are now set for the final interview after which only one of them will be selected for the job. Candidate A has a probability of 0.3 of getting the job and candidate B has a probability of 0.25 of getting the job. Now, what is the probability that one of the two gets the job?"
   ]
  },
  {
   "cell_type": "code",
   "execution_count": 17,
   "id": "98568eac",
   "metadata": {},
   "outputs": [
    {
     "data": {
      "text/plain": [
       "0.55"
      ]
     },
     "execution_count": 17,
     "metadata": {},
     "output_type": "execute_result"
    }
   ],
   "source": [
    "# P(A)=0.3\n",
    "# P(B)=0.25\n",
    "# P(AuB)=P(A)+P(B)-P(AnB)\n",
    "\n",
    "0.3+0.25-0\n",
    "\n",
    "\n"
   ]
  },
  {
   "cell_type": "markdown",
   "id": "47fbf8f3",
   "metadata": {},
   "source": [
    "Probability\n",
    "\n",
    " A few cards are numbered from 1 to 20 and are mixed up. One card is then drawn at random. What is the probability that this card has a number that is a multiple of four or nine?"
   ]
  },
  {
   "cell_type": "markdown",
   "id": "c3a916a9",
   "metadata": {},
   "source": [
    "Feedback:\n",
    "    \n",
    "Yes that’s the right answer. Addition rule is to be applied, P(A⋃B) = P(A)+P(B) − P(A⋂B) where\n",
    "A - Event where the number is divisible by 4\n",
    "B -  Event where the number is divisible by 9\n",
    "Since there are no numbers between 1 to 20 that are divisible by both 4 and 9 P(A⋂B) becomes 0.\n",
    "\n",
    "P(A) = 5/20 and P(B) = 2/20\n",
    "So the probability, P(A⋃B) = 5/20 + 2/20 = 7/20."
   ]
  },
  {
   "cell_type": "code",
   "execution_count": 18,
   "id": "8ad609b9",
   "metadata": {},
   "outputs": [
    {
     "data": {
      "text/plain": [
       "2432902008176640000"
      ]
     },
     "execution_count": 18,
     "metadata": {},
     "output_type": "execute_result"
    }
   ],
   "source": [
    "#n!/(n-r)!*r!\n",
    "\n",
    "factorial(20)"
   ]
  },
  {
   "cell_type": "code",
   "execution_count": 20,
   "id": "c19e6fda",
   "metadata": {},
   "outputs": [
    {
     "data": {
      "text/plain": [
       "20.0"
      ]
     },
     "execution_count": 20,
     "metadata": {},
     "output_type": "execute_result"
    }
   ],
   "source": [
    "2432902008176640000/121645100408832000"
   ]
  },
  {
   "cell_type": "code",
   "execution_count": 21,
   "id": "024367f9",
   "metadata": {},
   "outputs": [
    {
     "data": {
      "text/plain": [
       "5.0"
      ]
     },
     "execution_count": 21,
     "metadata": {},
     "output_type": "execute_result"
    }
   ],
   "source": [
    "20/4"
   ]
  },
  {
   "cell_type": "code",
   "execution_count": 22,
   "id": "02bd5988",
   "metadata": {},
   "outputs": [
    {
     "data": {
      "text/plain": [
       "2.2222222222222223"
      ]
     },
     "execution_count": 22,
     "metadata": {},
     "output_type": "execute_result"
    }
   ],
   "source": [
    "20/9"
   ]
  },
  {
   "cell_type": "code",
   "execution_count": 19,
   "id": "a78c4dd1",
   "metadata": {},
   "outputs": [
    {
     "data": {
      "text/plain": [
       "121645100408832000"
      ]
     },
     "execution_count": 19,
     "metadata": {},
     "output_type": "execute_result"
    }
   ],
   "source": [
    "factorial(19)"
   ]
  },
  {
   "cell_type": "markdown",
   "id": "d8d94dda",
   "metadata": {},
   "source": [
    "Probability\n",
    "\n",
    "If a card is chosen from a standard deck of cards, what is the probability of it being a five or a seven?"
   ]
  },
  {
   "cell_type": "markdown",
   "id": "2afd0ae1",
   "metadata": {},
   "source": [
    "Feedback:\n",
    "    \n",
    "Yes that’s the right answer. Addition rule is to be applied, P(A⋃B) = P(A)+P(B) − P(A⋂B) where\n",
    "A - Event where the card contains the number five\n",
    "B -  Event where the card contains the number seven\n",
    "Since there are no card that contains numbers both five and seven P(A⋂B) becomes 0.\n",
    "\n",
    "P(A) = 4/52 and P(B) = 4/52\n",
    "So the probability, P(A⋃B) = 4/52 + 4/52 = 8/52\n",
    "\n",
    "= 2/13"
   ]
  },
  {
   "cell_type": "code",
   "execution_count": 24,
   "id": "db141a3f",
   "metadata": {},
   "outputs": [
    {
     "data": {
      "text/plain": [
       "0.9230769230769231"
      ]
     },
     "execution_count": 24,
     "metadata": {},
     "output_type": "execute_result"
    }
   ],
   "source": [
    "A=5/13 \n",
    "B=7/13\n",
    "A+B"
   ]
  },
  {
   "cell_type": "code",
   "execution_count": 25,
   "id": "27600923",
   "metadata": {},
   "outputs": [
    {
     "data": {
      "text/plain": [
       "0.9230769230769231"
      ]
     },
     "execution_count": 25,
     "metadata": {},
     "output_type": "execute_result"
    }
   ],
   "source": [
    "12/13"
   ]
  },
  {
   "cell_type": "markdown",
   "id": "f90ddbcd",
   "metadata": {},
   "source": [
    "#### Rules of Probability - Multiplication"
   ]
  },
  {
   "cell_type": "markdown",
   "id": "b408fc67",
   "metadata": {},
   "source": [
    "P(A and B) = P(A)*P(B).\n",
    "For example, if you have four independent events A, B, C and D, then:\n",
    "P(A and B and C and D) = P(A)*P(B)*P(C)*P(D)."
   ]
  },
  {
   "cell_type": "markdown",
   "id": "0952c466",
   "metadata": {},
   "source": [
    "Note:\n",
    "A helpful hint here to decide when to use the addition rule and when to use the multiplication rule is to observe the language of the question. If the question mentions an ####'OR'#### to denote the relationship between the events, then you need to apply the ###addition rule###. That is, either of the given events can occur at that time, P(Event A or Event B). Else, if an ####'AND'#### is used to denote the relationship between the events, then the###multiplication rule#### should be used. Here, the events need to happen simultaneously and must be independent, i.e., P(Event A and Event B). "
   ]
  },
  {
   "cell_type": "markdown",
   "id": "c669ce32",
   "metadata": {},
   "source": [
    "### Addition vs Multiplication\n",
    "\n",
    "##### Consider the following two statements and choose the correct option.\n",
    "\n",
    "\n",
    "Statement 1: The probability of Rahul playing in today's match is 0.25, whereas that of Bumrah is 0.35. You need to find the probability that either of them will play in today's match.\n",
    "\n",
    "\n",
    "Statement 2: The probability of Rahul playing in today's match is 0.25, whereas that of Bumrah is 0.35. You need to find the probability that both of them will play in today's match."
   ]
  },
  {
   "cell_type": "markdown",
   "id": "b45a1612",
   "metadata": {},
   "source": [
    "Statement 1 uses the addition rule, whereas statement 2 uses the multiplication rule to find the probability that is being asked.\n",
    "\n",
    "✓ Correct\n",
    "Feedback:\n",
    "Observe that in the first statement either of the events can occur. So, there is an 'OR' involved here. That is, you need to find P('Rahul' OR 'Bumrah'). In the second statement, however, both the events are occurring simultaneously. Hence, there is an 'AND' involved here, i.e., you need to find P('Rahul' AND 'Bumrah'). Therefore, in the first statement, you will be using the addition rule to find the probability, whereas in the second statement, you will use the multiplication rule."
   ]
  },
  {
   "cell_type": "markdown",
   "id": "df8b8920",
   "metadata": {},
   "source": [
    "#### Addition and Multiplication Rules\n",
    "\n",
    "Now, what is the probability that either Rahul or Bumrah will play in today's match, given that their individual probabilities of playing are 0.25 and 0.35, respectively? Also, it is mentioned that both the events are not dependent on each other."
   ]
  },
  {
   "cell_type": "code",
   "execution_count": 26,
   "id": "46b5a7c6",
   "metadata": {},
   "outputs": [
    {
     "data": {
      "text/plain": [
       "0.6"
      ]
     },
     "execution_count": 26,
     "metadata": {},
     "output_type": "execute_result"
    }
   ],
   "source": [
    "0.25+0.35"
   ]
  },
  {
   "cell_type": "code",
   "execution_count": 28,
   "id": "8c5f92fa",
   "metadata": {},
   "outputs": [
    {
     "data": {
      "text/plain": [
       "0.05454545454545454"
      ]
     },
     "execution_count": 28,
     "metadata": {},
     "output_type": "execute_result"
    }
   ],
   "source": [
    "0.6/11"
   ]
  },
  {
   "cell_type": "markdown",
   "id": "8922985c",
   "metadata": {},
   "source": [
    "Feedback:\n",
    "\n",
    "Let 'A' denote the event that Rahul plays in the match and 'B' denote the event that Bumrah plays in the match. It is given that P(A) = 0.25 and P(B) = 0.35. Also, it is given that A and B are independent. You need to find P(A⋃B). Now, this is given by the formula P(A⋃B) = P(A) + P(B) - P(A⋂B). Now,\n",
    "P(A) = 0.25\n",
    "P(B) = 0.35\n",
    "P(A⋂B) = P(A and B) = P(A)*P(B) = 0.25*0.35 = 0.0875 (since A and B are independent)\n",
    "Therefore, the final probability is 0.25 + 0.35 - 0.0875 = 0.5125 ~ 0.51."
   ]
  },
  {
   "cell_type": "markdown",
   "id": "f1bd5fd7",
   "metadata": {},
   "source": [
    "#### Addition and Multiplication Rules\n",
    "\n",
    "A bag contains six balls: three black ones and three red ones. You take out a ball from the bag, note its colour and put it back in the bag. You then draw another ball from the bag and note down its colour. What is the probability that balls of the same colour were drawn twice?"
   ]
  },
  {
   "cell_type": "code",
   "execution_count": 30,
   "id": "44ebd198",
   "metadata": {},
   "outputs": [
    {
     "data": {
      "text/plain": [
       "720"
      ]
     },
     "execution_count": 30,
     "metadata": {},
     "output_type": "execute_result"
    }
   ],
   "source": [
    "n=6 \n",
    "A=3\n",
    "B=3\n",
    "r=2\n",
    "\n",
    "factorial(6)"
   ]
  },
  {
   "cell_type": "code",
   "execution_count": 31,
   "id": "52440844",
   "metadata": {},
   "outputs": [
    {
     "data": {
      "text/plain": [
       "24"
      ]
     },
     "execution_count": 31,
     "metadata": {},
     "output_type": "execute_result"
    }
   ],
   "source": [
    "factorial(4)"
   ]
  },
  {
   "cell_type": "code",
   "execution_count": 32,
   "id": "956ffc53",
   "metadata": {},
   "outputs": [
    {
     "data": {
      "text/plain": [
       "2"
      ]
     },
     "execution_count": 32,
     "metadata": {},
     "output_type": "execute_result"
    }
   ],
   "source": [
    "factorial(2)"
   ]
  },
  {
   "cell_type": "code",
   "execution_count": 33,
   "id": "fddbdd72",
   "metadata": {},
   "outputs": [
    {
     "data": {
      "text/plain": [
       "30.0"
      ]
     },
     "execution_count": 33,
     "metadata": {},
     "output_type": "execute_result"
    }
   ],
   "source": [
    "720/24"
   ]
  },
  {
   "cell_type": "code",
   "execution_count": 34,
   "id": "24888ebb",
   "metadata": {},
   "outputs": [
    {
     "data": {
      "text/plain": [
       "15.0"
      ]
     },
     "execution_count": 34,
     "metadata": {},
     "output_type": "execute_result"
    }
   ],
   "source": [
    "30/2"
   ]
  },
  {
   "cell_type": "code",
   "execution_count": 36,
   "id": "48e856aa",
   "metadata": {},
   "outputs": [
    {
     "data": {
      "text/plain": [
       "0.25"
      ]
     },
     "execution_count": 36,
     "metadata": {},
     "output_type": "execute_result"
    }
   ],
   "source": [
    "3/6*3/6 "
   ]
  },
  {
   "cell_type": "markdown",
   "id": "1b26e5f4",
   "metadata": {},
   "source": [
    "Feedback:\n",
    "    \n",
    "Yes that’s the right answer. We have to use both addition and multiplication rule,\n",
    "\n",
    "P(A⋃B) = P(A)+P(B) − P(A⋂B) where\n",
    "A - Event where both the balls drawn are black balls\n",
    "B -  Event where both the balls drawn are red balls\n",
    "\n",
    "\n",
    "In this case we can observe that events are disjoint and hence P(A⋂B) = 0\n",
    "\n",
    "Now to calculate  event A  we use multiplication rule, as both the balls have to be black , so P(A) = P(black ball) * P(black ball) \n",
    "P(A) = 3/6 * 3/6 = 1/4\n",
    "and P(B) = P(red ball) * P(red ball) \n",
    "P(B) = 3/6 * 3/6 = 1/4\n",
    "So the probability, P(A⋃B) = 1/4  + 1/4 = 2/4\n",
    "\n",
    "= 1/2"
   ]
  },
  {
   "cell_type": "markdown",
   "id": "200888a0",
   "metadata": {},
   "source": [
    "#### Permutations and Combinations\n",
    "\n",
    "You have a list of seven letters, of which three are vowels (A, I and E) and four are consonants (B, C, D and F). You need to use these letters to make four-letter words in such a way that they should contain exactly two vowels from the given three and exactly two consonants from the given four. How many such words can be formed?"
   ]
  },
  {
   "cell_type": "code",
   "execution_count": 37,
   "id": "58496467",
   "metadata": {},
   "outputs": [
    {
     "data": {
      "text/plain": [
       "5040"
      ]
     },
     "execution_count": 37,
     "metadata": {},
     "output_type": "execute_result"
    }
   ],
   "source": [
    "n=7\n",
    "r=4\n",
    "factorial(7)"
   ]
  },
  {
   "cell_type": "code",
   "execution_count": 38,
   "id": "cc38cf3e",
   "metadata": {},
   "outputs": [
    {
     "data": {
      "text/plain": [
       "24"
      ]
     },
     "execution_count": 38,
     "metadata": {},
     "output_type": "execute_result"
    }
   ],
   "source": [
    "factorial(4)"
   ]
  },
  {
   "cell_type": "markdown",
   "id": "b14cf9d2",
   "metadata": {},
   "source": [
    "You can choose two vowels from the given three vowels in 3!/(2!*1!) = 3 ways. Similarly, you can choose two consonants from the given four consonants in 4!/(2!2!) = 6 ways. Since these two events are independent, you have 3 * 6 = 18 combinations of four unique letters. Now, you can arrange each of the 18 combinations in 4! ways. Thus, the total number of words that can be formed are 18 * 4! =18 * 24 = 432."
   ]
  },
  {
   "cell_type": "markdown",
   "id": "c60f9af9",
   "metadata": {},
   "source": [
    "#### Properties of Probability\n",
    "\n",
    "In a random experiment, there were a total of three outcomes. Now, the probability of the second and third outcomes came out to be twice that of the first outcome. Therefore, the sum of the probabilities of the first and second outcomes comes out to be ____."
   ]
  },
  {
   "cell_type": "code",
   "execution_count": 47,
   "id": "ea8a8d8a",
   "metadata": {},
   "outputs": [
    {
     "data": {
      "text/plain": [
       "0.2"
      ]
     },
     "execution_count": 47,
     "metadata": {},
     "output_type": "execute_result"
    }
   ],
   "source": [
    "#x+2x+2x=1\n",
    "1/5"
   ]
  },
  {
   "cell_type": "markdown",
   "id": "13dc5353",
   "metadata": {},
   "source": [
    "\n",
    "✓ Correct\n",
    "Feedback:\n",
    "\n",
    "Let the first outcome have a probability of x. Therefore, the second and third outcomes have a probability of 2x each. Using the total sum rule of probability, we have x + 2x +2x = 1 or 5x = 1 or x = 0.2. Therefore, the sum of the first and second probabilities comes out to be 0.2 +0.4 = 0.6."
   ]
  },
  {
   "cell_type": "markdown",
   "id": "0759199a",
   "metadata": {},
   "source": [
    "#### Rules of Probability\n",
    "\n",
    "A college has been offering two finance programs, AGFM and BGFM, to its students for the last five years. From past historical data, it has been found that the probability of a student joining the AGFM program is 0.4 and the probability of a student joining the BGFM program is 0.475. Now, if a student joins one program, he/she cannot obviously enrol for the next program. So, what is the probability that a student enrols in either of the programs?"
   ]
  },
  {
   "cell_type": "code",
   "execution_count": 49,
   "id": "9c4d0a59",
   "metadata": {},
   "outputs": [
    {
     "data": {
      "text/plain": [
       "0.19"
      ]
     },
     "execution_count": 49,
     "metadata": {},
     "output_type": "execute_result"
    }
   ],
   "source": [
    "A=0.4\n",
    "B=0.475\n"
   ]
  },
  {
   "cell_type": "code",
   "execution_count": 51,
   "id": "87e51a6c",
   "metadata": {},
   "outputs": [
    {
     "data": {
      "text/plain": [
       "0.875"
      ]
     },
     "execution_count": 51,
     "metadata": {},
     "output_type": "execute_result"
    }
   ],
   "source": [
    "0.4+0.475"
   ]
  },
  {
   "cell_type": "markdown",
   "id": "c7eaa7d1",
   "metadata": {},
   "source": [
    "Feedback:\n",
    "\n",
    "Note that we are calculating P(AGFM or BGFM). Hence, we are going to use the addition rule of probability. Now, it is given that P(AGFM) = 0.4 and P(BGFM) = 0.475. Also, it has been mentioned that both the enrolment events are disjoint. Therefore, P(AGFM and BGFM) = 0. Therefore, by the addition rule, we have P(AGFM or BGFM) = 0.4 + 0.475 = 0.875."
   ]
  },
  {
   "cell_type": "markdown",
   "id": "e5654b44",
   "metadata": {},
   "source": [
    "#### Probability\n",
    "\n",
    "A jar contains four marbles: three red ones and one white one. Two marbles are drawn but are replaced after each draw. What is the probability that marbles of the same colour are drawn twice?"
   ]
  },
  {
   "cell_type": "markdown",
   "id": "c003f7c4",
   "metadata": {},
   "source": [
    "Apply the addition and multiplication rule , P(A⋃B) = P(A)+P(B) − P(A⋂B) where\n",
    "A - Event where both the marbles drawn are red marbles\n",
    "B -  Event where both the marbles drawn are white marbles\n",
    "In this case we can observe that events are disjoint and hence P(A⋂B) = 0\n",
    "\n",
    "Now to calculate  event A  we use multiplication rule, as both the marbles have to be red\n",
    "P(A) = P(red marble) * P(red marble) \n",
    "\n",
    "Similarly, Now to calculate  event B  we use multiplication rule, as both the marbles have to be white\n",
    "P(A) = P(white marble) * P(white marble)\n",
    "\n",
    "Can you try the answer now?"
   ]
  },
  {
   "cell_type": "code",
   "execution_count": null,
   "id": "239242b7",
   "metadata": {},
   "outputs": [],
   "source": [
    "3/4 *3/4 =9/16\n",
    "1/4 *1/4 =1/16\n",
    "\n",
    "10/16\n",
    "5/8"
   ]
  },
  {
   "cell_type": "markdown",
   "id": "c5b00cad",
   "metadata": {},
   "source": [
    " Yes that’s the right answer. Addition rule is to be applied, P(A⋃B) = P(A)+P(B) − P(A⋂B) where\n",
    "A - Event where both the marbles drawn are red marbles\n",
    "B -  Event where both the marbles drawn are white marbles\n",
    "In this case we can observe that events are disjoint and hence P(A⋂B) = 0\n",
    "\n",
    "Now to calculate  event A  we use the multiplication rule, as both the marbles have to be red , so P(A) = P(red marble) * P(red marble) \n",
    "P(A) = 3/4 * 3/4 = 9/16\n",
    "and P(B) = P(white marble) * P(white marble) \n",
    "P(B) = 1/4 * 1/4 = 1/16\n",
    "So the probability, P(A⋃B) = 9/16  + 1/16 = 5/8."
   ]
  },
  {
   "cell_type": "markdown",
   "id": "a54a5caa",
   "metadata": {},
   "source": [
    "#### Probability\n",
    " A number is selected at random from the first thirty natural numbers. What is the chance that it is a multiple of either three or thirteen?"
   ]
  },
  {
   "cell_type": "code",
   "execution_count": null,
   "id": "3290eca4",
   "metadata": {},
   "outputs": [],
   "source": [
    "n=30\n",
    "A=10/30\n",
    "B=2/30\n",
    "12/30 =6/15=2/5\n"
   ]
  },
  {
   "cell_type": "markdown",
   "id": "fd68e905",
   "metadata": {},
   "source": [
    "Feedback:\n",
    "    \n",
    "Yes that’s the right answer. Addition rule is to be applied, P(A⋃B) = P(A)+P(B) − P(A⋂B) where\n",
    "A - Event where the number is divisible by 3\n",
    "B -  Event where the number is divisible by 13\n",
    "Since there are no numbers between 1 to 30 that are divisible by both 3 and 13 P(A⋂B) becomes 0.\n",
    "\n",
    "P(A) = 10/30 and P(B) = 2/30\n",
    "So the probability, P(A⋃B) = 10/30 + 2/30 = 2/5."
   ]
  },
  {
   "cell_type": "markdown",
   "id": "1d810e8c",
   "metadata": {},
   "source": [
    "#### Probability\n",
    "\n",
    " In a throw of dice, what is the probability of getting a number greater than five?"
   ]
  },
  {
   "cell_type": "markdown",
   "id": "c1a88fb5",
   "metadata": {},
   "source": [
    "Feedback:\n",
    "\n",
    "Yes that's the correct answer. The number of favourable outcomes is one. As six is the only number greater than five, and the total number of outcomes are six (1,2,3,4,5,6) so the probability becomes 1/6."
   ]
  },
  {
   "cell_type": "markdown",
   "id": "e6bbe69d",
   "metadata": {},
   "source": [
    "#### Probability\n",
    "A bag contains seven red balls and eleven green balls. If a ball is drawn out at random from it, what is the probability that it is red?"
   ]
  },
  {
   "cell_type": "markdown",
   "id": "1ce21a73",
   "metadata": {},
   "source": [
    "7/18\n",
    "\n",
    "✓ Correct\n",
    "Feedback:\n",
    "\n",
    "Yes that’s the right answer. The total number of favourable outcomes is the total number of red balls which is 7 and the total number of outcomes is 18 (7 red + 11 green balls). Thus, P = 7/18.\n",
    "\n"
   ]
  },
  {
   "cell_type": "markdown",
   "id": "de2d6552",
   "metadata": {},
   "source": [
    "## Graded Questions"
   ]
  },
  {
   "cell_type": "markdown",
   "id": "e77ccbce",
   "metadata": {},
   "source": [
    "##### Probability\n",
    "\n",
    "Let's say that using the six letters of the word BRAISE, you formed all possible four-letter words. You wrote each of these words on a separate piece of paper and put all those papers in a bag. Now, you pick a paper randomly from the bag. What is the probability that the word on that paper would start with the letter B?"
   ]
  },
  {
   "cell_type": "markdown",
   "id": "f1fe9408",
   "metadata": {},
   "source": [
    "Feedback:\n",
    "\n",
    "First, you need to find the number of ways in which you can form four-letter words from six letters. This can be computed by using the formula for basic permutation (n!/(n-r)! where n = 6 and r =4) and turns out to be 6!/2! = 720/2 = 360. Next, you need to fix the first letter as B and then find the number of three-letter words that are possible from the five remaining letters. This comes out to be 5!/2! = 120/2 = 60. Then, you have to use the basic definition of probability to compute the value that is being asked for. Here, the number of desirable outcomes = 60 and the total number of possible outcomes = 360. Hence, the probability = 60/360 =1/6.\n"
   ]
  },
  {
   "cell_type": "markdown",
   "id": "9555a02d",
   "metadata": {},
   "source": [
    "##### Concepts of Probability\n",
    "\n",
    "Consider the following statements and then choose the correct option.\n",
    "\n",
    "\n",
    "Statement 1: Event A denotes the situation where Aman scores 100 in Mathematics and event B denotes the situation where he scores 75 in Science.\n",
    "\n",
    "\n",
    "Statement 2: Event A denotes the situation where Aman scores greater than 90 in Mathematics and event B denotes the situation where he scores less than 70 in Mathematics."
   ]
  },
  {
   "cell_type": "markdown",
   "id": "72abf885",
   "metadata": {},
   "source": [
    "In statement 1, both the events are independent, whereas in statement 2, both the events are disjoint.\n",
    "\n",
    "✓ Correct\n",
    "\n",
    "Feedback:\n",
    "    \n",
    "Two events are considered independent when one event has no effect on the other. Two events are considered disjoint if both of them cannot occur simultaneously. As you can see clearly, in statement 1, the events are independent of each other, whereas in statement 2, the events are disjoint."
   ]
  },
  {
   "cell_type": "markdown",
   "id": "673edc66",
   "metadata": {},
   "source": [
    "##### Rules of Probability\n",
    "\n",
    "Let's say that you are the Business Analytics Head at a national bank. From the historical data, you have determined that there is a 0.33 probability that a customer would default on a particular loan. Now, what is the probability that out of the next two customers who apply for the same loan, both would not default on the loan?"
   ]
  },
  {
   "cell_type": "code",
   "execution_count": 9,
   "id": "139c28c6",
   "metadata": {},
   "outputs": [
    {
     "data": {
      "text/plain": [
       "0.22"
      ]
     },
     "execution_count": 9,
     "metadata": {},
     "output_type": "execute_result"
    }
   ],
   "source": [
    "#p(AnB)=0.33\n",
    "\n",
    "0.11+0.11\n"
   ]
  },
  {
   "cell_type": "code",
   "execution_count": 10,
   "id": "0b27e65d",
   "metadata": {},
   "outputs": [
    {
     "data": {
      "text/plain": [
       "0.6699999999999999"
      ]
     },
     "execution_count": 10,
     "metadata": {},
     "output_type": "execute_result"
    }
   ],
   "source": [
    "(1-0.33)"
   ]
  },
  {
   "cell_type": "code",
   "execution_count": 11,
   "id": "24965767",
   "metadata": {},
   "outputs": [
    {
     "data": {
      "text/plain": [
       "0.43560000000000004"
      ]
     },
     "execution_count": 11,
     "metadata": {},
     "output_type": "execute_result"
    }
   ],
   "source": [
    "0.66*0.66"
   ]
  },
  {
   "cell_type": "markdown",
   "id": "0835c946",
   "metadata": {},
   "source": [
    "Feedback:\n",
    "\n",
    "The probability that one person would default/not default on the loan has no bearing on the fact that another person would default/not default on the same loan. Hence, you need to use the multiplication rule of probability for this problem. Also, note that we need to find the probability that both of them would not default on the loan. So, first we find that value for one person, which comes out to be 1 - 0.33 = 0.67. Now, the probability that both persons would not default on the loan is given by the multiplication rule. This probability comes out to be 0.67*0.67 = 0.45."
   ]
  },
  {
   "cell_type": "markdown",
   "id": "55da8ca9",
   "metadata": {},
   "source": [
    "##### Probability\n",
    "\n",
    "Two dice are thrown at the same time. What is the probability of getting a sum of either 10 or 11?"
   ]
  },
  {
   "cell_type": "code",
   "execution_count": null,
   "id": "a44189f7",
   "metadata": {},
   "outputs": [],
   "source": [
    "(4,6)(5,5)(5,6)(6,4)(6,5)"
   ]
  },
  {
   "cell_type": "code",
   "execution_count": 12,
   "id": "db043689",
   "metadata": {},
   "outputs": [
    {
     "data": {
      "text/plain": [
       "0.1388888888888889"
      ]
     },
     "execution_count": 12,
     "metadata": {},
     "output_type": "execute_result"
    }
   ],
   "source": [
    "5/36"
   ]
  },
  {
   "cell_type": "markdown",
   "id": "84e857ef",
   "metadata": {},
   "source": [
    "Feedback:\n",
    "    \n",
    "The sample space in this experiment is 36. In other words, there are 36 possible outcomes. Out of those 36 outcomes, three outcomes result in a sum of 10, and two outcomes result in a sum of 11. Now, using the addition rule of probability, can you calculate the final probability?\n",
    "Note: P(A⋃B) = P(A)+P(B) − P(A⋂B)\n",
    "\n",
    "Since the events are mutually exclusive. Hence, \n",
    "P(A⋃B)= P(A)+P(B)\n",
    "P(A) = 3/36\n",
    "P(B) = 2/36\n",
    " \n",
    "Therefore, final probability = 5/36 \n",
    "= 0.138"
   ]
  },
  {
   "cell_type": "markdown",
   "id": "c54c09e3",
   "metadata": {},
   "source": [
    "##### Probability\n",
    "\n",
    "If a card is chosen from a standard deck of cards, what is the probability that it is a diamond or a club?"
   ]
  },
  {
   "cell_type": "markdown",
   "id": "6ef42a26",
   "metadata": {},
   "source": [
    "Feedback:\n",
    "    \n",
    "Yes that’s right, the total number of favourable outcomes is 26 (13 cards each of diamonds and clubs), and the total number of outcomes is 52 so probability becomes \n",
    "P = 26/52 = 1/2."
   ]
  },
  {
   "cell_type": "markdown",
   "id": "57eb46ad",
   "metadata": {},
   "source": [
    "##### Probability\n",
    "\n",
    "A card is drawn at random from a deck. What is the probability of it being a face card?"
   ]
  },
  {
   "cell_type": "code",
   "execution_count": null,
   "id": "b4bc3d19",
   "metadata": {},
   "outputs": [],
   "source": [
    "3/52+3/52+3/52+3/52"
   ]
  },
  {
   "cell_type": "code",
   "execution_count": null,
   "id": "bca35084",
   "metadata": {},
   "outputs": [],
   "source": [
    "12/52 =6/26 =3/13"
   ]
  },
  {
   "cell_type": "markdown",
   "id": "ced05596",
   "metadata": {},
   "source": [
    "Feedback:\n",
    "    \n",
    "Yes that’s the right answer. The total number of face cards in a deck is 12 (three each of hearts, clubs, diamonds, and spades), and the total number of cards in a deck is 52. Thus, the probability P = 12/52 = 3/13."
   ]
  },
  {
   "cell_type": "markdown",
   "id": "2fa72785",
   "metadata": {},
   "source": [
    "##### Probability\n",
    "\n",
    "If three coins are tossed simultaneously, what is the probability of all of them landing with the heads side facing up?"
   ]
  },
  {
   "cell_type": "code",
   "execution_count": null,
   "id": "eef5a75d",
   "metadata": {},
   "outputs": [],
   "source": [
    "(H,H,H)(H,T,T)(T,H,T)(T,T,H)(H,H,T)(T,H,H)(H,T,H)(T,T,T)\n",
    "8"
   ]
  },
  {
   "cell_type": "markdown",
   "id": "68e75653",
   "metadata": {},
   "source": [
    "Feedback:\n",
    "    \n",
    "Yes that’s the right answer, the possible outcomes are (HHH), (HHT), (HTH), (THH), (HTT), (THT), (TTH), and (TTT) which is a total of 8 outcomes. Hence the probability becomes 1/8. The problem can also be solved using multiplication rule. Let, \n",
    "\n",
    " \n",
    "\n",
    "Event A is probability of the first coin showing heads, since the number of favour outcomes is one which is {H} and the total number of favourable outcomes is two {H,T} therefore P(A) = 1/2\n",
    "\n",
    "Similarly, Event B is probability of the second coin showing heads, therefore P(B) = 1/2 and  Event C is probability of the thrid coin showing heads, therefore P(C) = 1/2\n",
    "\n",
    " \n",
    "\n",
    "P(A and B and C) = 1/2 * 1/2 * 1/2 = 1/8"
   ]
  },
  {
   "cell_type": "markdown",
   "id": "2351c8df",
   "metadata": {},
   "source": [
    "#### Expected Value"
   ]
  },
  {
   "cell_type": "code",
   "execution_count": null,
   "id": "f749dce2",
   "metadata": {},
   "outputs": [],
   "source": [
    "P(X+150)=0.133\n",
    "P(X-10)= 0.876\n",
    "P(X=-150)=0.027\n",
    "\n"
   ]
  },
  {
   "cell_type": "code",
   "execution_count": 19,
   "id": "90a00bbc",
   "metadata": {},
   "outputs": [
    {
     "data": {
      "text/plain": [
       "7.140000000000003"
      ]
     },
     "execution_count": 19,
     "metadata": {},
     "output_type": "execute_result"
    }
   ],
   "source": [
    "(150*0.133)+(-10*0.876)+(-150*0.027)"
   ]
  },
  {
   "cell_type": "code",
   "execution_count": 18,
   "id": "ca5002c9",
   "metadata": {},
   "outputs": [
    {
     "data": {
      "text/plain": [
       "-4.38"
      ]
     },
     "execution_count": 18,
     "metadata": {},
     "output_type": "execute_result"
    }
   ],
   "source": [
    "-305\t0.1\n",
    "+15\t0.7\n",
    "+95\t0.2"
   ]
  },
  {
   "cell_type": "code",
   "execution_count": 20,
   "id": "df2352a6",
   "metadata": {},
   "outputs": [
    {
     "data": {
      "text/plain": [
       "-1.0"
      ]
     },
     "execution_count": 20,
     "metadata": {},
     "output_type": "execute_result"
    }
   ],
   "source": [
    "(-305*0.1)+(15*0.7)+(95*0.2)"
   ]
  },
  {
   "cell_type": "code",
   "execution_count": 1,
   "id": "2e6860c1",
   "metadata": {},
   "outputs": [],
   "source": [
    "import pandas as pd\n",
    "import numpy as np\n",
    "import matplotlib.pyplot as plt\n",
    "import seaborn as sns"
   ]
  },
  {
   "cell_type": "code",
   "execution_count": 3,
   "id": "fca41685",
   "metadata": {},
   "outputs": [],
   "source": [
    "inp0=pd.read_csv('Inferential Statistics - Student Loan.csv')"
   ]
  },
  {
   "cell_type": "code",
   "execution_count": 4,
   "id": "6d3e7297",
   "metadata": {},
   "outputs": [
    {
     "data": {
      "text/html": [
       "<div>\n",
       "<style scoped>\n",
       "    .dataframe tbody tr th:only-of-type {\n",
       "        vertical-align: middle;\n",
       "    }\n",
       "\n",
       "    .dataframe tbody tr th {\n",
       "        vertical-align: top;\n",
       "    }\n",
       "\n",
       "    .dataframe thead th {\n",
       "        text-align: right;\n",
       "    }\n",
       "</style>\n",
       "<table border=\"1\" class=\"dataframe\">\n",
       "  <thead>\n",
       "    <tr style=\"text-align: right;\">\n",
       "      <th></th>\n",
       "      <th>Customer No.</th>\n",
       "      <th>Exposure at Default (in lakh Rs.)</th>\n",
       "      <th>Recovery (%)</th>\n",
       "      <th>Probability of Default</th>\n",
       "      <th>Unnamed: 4</th>\n",
       "      <th>Unnamed: 5</th>\n",
       "    </tr>\n",
       "  </thead>\n",
       "  <tbody>\n",
       "    <tr>\n",
       "      <th>0</th>\n",
       "      <td>1</td>\n",
       "      <td>11.50</td>\n",
       "      <td>20.00%</td>\n",
       "      <td>0.0070</td>\n",
       "      <td>NaN</td>\n",
       "      <td>NaN</td>\n",
       "    </tr>\n",
       "    <tr>\n",
       "      <th>1</th>\n",
       "      <td>2</td>\n",
       "      <td>0.24</td>\n",
       "      <td>5.10%</td>\n",
       "      <td>0.0033</td>\n",
       "      <td>NaN</td>\n",
       "      <td>NaN</td>\n",
       "    </tr>\n",
       "    <tr>\n",
       "      <th>2</th>\n",
       "      <td>3</td>\n",
       "      <td>0.04</td>\n",
       "      <td>24.86%</td>\n",
       "      <td>0.0022</td>\n",
       "      <td>NaN</td>\n",
       "      <td>NaN</td>\n",
       "    </tr>\n",
       "    <tr>\n",
       "      <th>3</th>\n",
       "      <td>4</td>\n",
       "      <td>13.81</td>\n",
       "      <td>2.29%</td>\n",
       "      <td>0.0066</td>\n",
       "      <td>NaN</td>\n",
       "      <td>NaN</td>\n",
       "    </tr>\n",
       "    <tr>\n",
       "      <th>4</th>\n",
       "      <td>5</td>\n",
       "      <td>19.84</td>\n",
       "      <td>3.47%</td>\n",
       "      <td>0.0020</td>\n",
       "      <td>NaN</td>\n",
       "      <td>NaN</td>\n",
       "    </tr>\n",
       "  </tbody>\n",
       "</table>\n",
       "</div>"
      ],
      "text/plain": [
       "   Customer No.  Exposure at Default (in lakh Rs.) Recovery (%)  \\\n",
       "0             1                              11.50       20.00%   \n",
       "1             2                               0.24        5.10%   \n",
       "2             3                               0.04       24.86%   \n",
       "3             4                              13.81        2.29%   \n",
       "4             5                              19.84        3.47%   \n",
       "\n",
       "   Probability of Default  Unnamed: 4  Unnamed: 5  \n",
       "0                  0.0070         NaN         NaN  \n",
       "1                  0.0033         NaN         NaN  \n",
       "2                  0.0022         NaN         NaN  \n",
       "3                  0.0066         NaN         NaN  \n",
       "4                  0.0020         NaN         NaN  "
      ]
     },
     "execution_count": 4,
     "metadata": {},
     "output_type": "execute_result"
    }
   ],
   "source": [
    "inp0.head()"
   ]
  },
  {
   "cell_type": "code",
   "execution_count": 5,
   "id": "1f1599dd",
   "metadata": {},
   "outputs": [
    {
     "data": {
      "text/plain": [
       "Customer No.                             0\n",
       "Exposure at Default (in lakh Rs.)        0\n",
       "Recovery (%)                             0\n",
       "Probability of Default                   0\n",
       "Unnamed: 4                           10000\n",
       "Unnamed: 5                           10000\n",
       "dtype: int64"
      ]
     },
     "execution_count": 5,
     "metadata": {},
     "output_type": "execute_result"
    }
   ],
   "source": [
    "inp0.isnull().sum()"
   ]
  },
  {
   "cell_type": "code",
   "execution_count": 6,
   "id": "63786e87",
   "metadata": {},
   "outputs": [],
   "source": [
    "inp0.drop(columns=['Customer No.','Unnamed: 4','Unnamed: 5'],axis=1,inplace=True)"
   ]
  },
  {
   "cell_type": "code",
   "execution_count": 7,
   "id": "f995b272",
   "metadata": {},
   "outputs": [
    {
     "data": {
      "text/html": [
       "<div>\n",
       "<style scoped>\n",
       "    .dataframe tbody tr th:only-of-type {\n",
       "        vertical-align: middle;\n",
       "    }\n",
       "\n",
       "    .dataframe tbody tr th {\n",
       "        vertical-align: top;\n",
       "    }\n",
       "\n",
       "    .dataframe thead th {\n",
       "        text-align: right;\n",
       "    }\n",
       "</style>\n",
       "<table border=\"1\" class=\"dataframe\">\n",
       "  <thead>\n",
       "    <tr style=\"text-align: right;\">\n",
       "      <th></th>\n",
       "      <th>Exposure at Default (in lakh Rs.)</th>\n",
       "      <th>Recovery (%)</th>\n",
       "      <th>Probability of Default</th>\n",
       "    </tr>\n",
       "  </thead>\n",
       "  <tbody>\n",
       "    <tr>\n",
       "      <th>0</th>\n",
       "      <td>11.50</td>\n",
       "      <td>20.00%</td>\n",
       "      <td>0.0070</td>\n",
       "    </tr>\n",
       "    <tr>\n",
       "      <th>1</th>\n",
       "      <td>0.24</td>\n",
       "      <td>5.10%</td>\n",
       "      <td>0.0033</td>\n",
       "    </tr>\n",
       "    <tr>\n",
       "      <th>2</th>\n",
       "      <td>0.04</td>\n",
       "      <td>24.86%</td>\n",
       "      <td>0.0022</td>\n",
       "    </tr>\n",
       "    <tr>\n",
       "      <th>3</th>\n",
       "      <td>13.81</td>\n",
       "      <td>2.29%</td>\n",
       "      <td>0.0066</td>\n",
       "    </tr>\n",
       "    <tr>\n",
       "      <th>4</th>\n",
       "      <td>19.84</td>\n",
       "      <td>3.47%</td>\n",
       "      <td>0.0020</td>\n",
       "    </tr>\n",
       "  </tbody>\n",
       "</table>\n",
       "</div>"
      ],
      "text/plain": [
       "   Exposure at Default (in lakh Rs.) Recovery (%)  Probability of Default\n",
       "0                              11.50       20.00%                  0.0070\n",
       "1                               0.24        5.10%                  0.0033\n",
       "2                               0.04       24.86%                  0.0022\n",
       "3                              13.81        2.29%                  0.0066\n",
       "4                              19.84        3.47%                  0.0020"
      ]
     },
     "execution_count": 7,
     "metadata": {},
     "output_type": "execute_result"
    }
   ],
   "source": [
    "inp0.head()"
   ]
  },
  {
   "cell_type": "code",
   "execution_count": 8,
   "id": "8307b59b",
   "metadata": {},
   "outputs": [
    {
     "data": {
      "text/plain": [
       "0.0037    0.0123\n",
       "0.0056    0.0122\n",
       "0.0046    0.0120\n",
       "0.0020    0.0117\n",
       "0.0015    0.0113\n",
       "           ...  \n",
       "0.0026    0.0081\n",
       "0.0080    0.0076\n",
       "0.0094    0.0073\n",
       "0.0000    0.0049\n",
       "0.0100    0.0049\n",
       "Name: Probability of Default, Length: 101, dtype: float64"
      ]
     },
     "execution_count": 8,
     "metadata": {},
     "output_type": "execute_result"
    }
   ],
   "source": [
    "inp0['Probability of Default'].value_counts(normalize=True)"
   ]
  },
  {
   "cell_type": "code",
   "execution_count": 13,
   "id": "a3595b39",
   "metadata": {},
   "outputs": [
    {
     "data": {
      "text/plain": [
       "0    20.00%\n",
       "1     5.10%\n",
       "2    24.86%\n",
       "3     2.29%\n",
       "4     3.47%\n",
       "Name: Recovery (%), dtype: object"
      ]
     },
     "execution_count": 13,
     "metadata": {},
     "output_type": "execute_result"
    }
   ],
   "source": [
    "inp0['Recovery (%)'].head()"
   ]
  },
  {
   "cell_type": "code",
   "execution_count": 14,
   "id": "6088dd20",
   "metadata": {},
   "outputs": [],
   "source": [
    "inp0['Recovery (%)']=inp0['Recovery (%)'].apply(lambda x :float(x.replace('%','')))"
   ]
  },
  {
   "cell_type": "code",
   "execution_count": 15,
   "id": "f0bf3b9a",
   "metadata": {},
   "outputs": [
    {
     "name": "stdout",
     "output_type": "stream",
     "text": [
      "<class 'pandas.core.frame.DataFrame'>\n",
      "RangeIndex: 10000 entries, 0 to 9999\n",
      "Data columns (total 3 columns):\n",
      " #   Column                             Non-Null Count  Dtype  \n",
      "---  ------                             --------------  -----  \n",
      " 0   Exposure at Default (in lakh Rs.)  10000 non-null  float64\n",
      " 1   Recovery (%)                       10000 non-null  float64\n",
      " 2   Probability of Default             10000 non-null  float64\n",
      "dtypes: float64(3)\n",
      "memory usage: 234.5 KB\n"
     ]
    }
   ],
   "source": [
    "inp0.info()"
   ]
  },
  {
   "cell_type": "code",
   "execution_count": 16,
   "id": "2bb0c1ab",
   "metadata": {},
   "outputs": [
    {
     "data": {
      "text/plain": [
       "dtype('float64')"
      ]
     },
     "execution_count": 16,
     "metadata": {},
     "output_type": "execute_result"
    }
   ],
   "source": [
    "inp0['Recovery (%)'].dtype"
   ]
  },
  {
   "cell_type": "code",
   "execution_count": 19,
   "id": "e868bda1",
   "metadata": {},
   "outputs": [],
   "source": [
    "inp0['Total_Recovery_amt']=inp0['Recovery (%)']*inp0['Exposure at Default (in lakh Rs.)']"
   ]
  },
  {
   "cell_type": "code",
   "execution_count": 20,
   "id": "2dd2e1bd",
   "metadata": {},
   "outputs": [
    {
     "data": {
      "text/html": [
       "<div>\n",
       "<style scoped>\n",
       "    .dataframe tbody tr th:only-of-type {\n",
       "        vertical-align: middle;\n",
       "    }\n",
       "\n",
       "    .dataframe tbody tr th {\n",
       "        vertical-align: top;\n",
       "    }\n",
       "\n",
       "    .dataframe thead th {\n",
       "        text-align: right;\n",
       "    }\n",
       "</style>\n",
       "<table border=\"1\" class=\"dataframe\">\n",
       "  <thead>\n",
       "    <tr style=\"text-align: right;\">\n",
       "      <th></th>\n",
       "      <th>Exposure at Default (in lakh Rs.)</th>\n",
       "      <th>Recovery (%)</th>\n",
       "      <th>Probability of Default</th>\n",
       "      <th>Total_Recovery_amt</th>\n",
       "    </tr>\n",
       "  </thead>\n",
       "  <tbody>\n",
       "    <tr>\n",
       "      <th>0</th>\n",
       "      <td>11.50</td>\n",
       "      <td>20.00</td>\n",
       "      <td>0.0070</td>\n",
       "      <td>230.0000</td>\n",
       "    </tr>\n",
       "    <tr>\n",
       "      <th>1</th>\n",
       "      <td>0.24</td>\n",
       "      <td>5.10</td>\n",
       "      <td>0.0033</td>\n",
       "      <td>1.2240</td>\n",
       "    </tr>\n",
       "    <tr>\n",
       "      <th>2</th>\n",
       "      <td>0.04</td>\n",
       "      <td>24.86</td>\n",
       "      <td>0.0022</td>\n",
       "      <td>0.9944</td>\n",
       "    </tr>\n",
       "    <tr>\n",
       "      <th>3</th>\n",
       "      <td>13.81</td>\n",
       "      <td>2.29</td>\n",
       "      <td>0.0066</td>\n",
       "      <td>31.6249</td>\n",
       "    </tr>\n",
       "    <tr>\n",
       "      <th>4</th>\n",
       "      <td>19.84</td>\n",
       "      <td>3.47</td>\n",
       "      <td>0.0020</td>\n",
       "      <td>68.8448</td>\n",
       "    </tr>\n",
       "  </tbody>\n",
       "</table>\n",
       "</div>"
      ],
      "text/plain": [
       "   Exposure at Default (in lakh Rs.)  Recovery (%)  Probability of Default  \\\n",
       "0                              11.50         20.00                  0.0070   \n",
       "1                               0.24          5.10                  0.0033   \n",
       "2                               0.04         24.86                  0.0022   \n",
       "3                              13.81          2.29                  0.0066   \n",
       "4                              19.84          3.47                  0.0020   \n",
       "\n",
       "   Total_Recovery_amt  \n",
       "0            230.0000  \n",
       "1              1.2240  \n",
       "2              0.9944  \n",
       "3             31.6249  \n",
       "4             68.8448  "
      ]
     },
     "execution_count": 20,
     "metadata": {},
     "output_type": "execute_result"
    }
   ],
   "source": [
    "inp0.head()"
   ]
  },
  {
   "cell_type": "code",
   "execution_count": 21,
   "id": "5c5c2ba6",
   "metadata": {},
   "outputs": [],
   "source": [
    "inp0['Total_Loss_Amt']=inp0['Exposure at Default (in lakh Rs.)']-inp0['Total_Recovery_amt']"
   ]
  },
  {
   "cell_type": "code",
   "execution_count": 22,
   "id": "6131dfee",
   "metadata": {},
   "outputs": [
    {
     "data": {
      "text/html": [
       "<div>\n",
       "<style scoped>\n",
       "    .dataframe tbody tr th:only-of-type {\n",
       "        vertical-align: middle;\n",
       "    }\n",
       "\n",
       "    .dataframe tbody tr th {\n",
       "        vertical-align: top;\n",
       "    }\n",
       "\n",
       "    .dataframe thead th {\n",
       "        text-align: right;\n",
       "    }\n",
       "</style>\n",
       "<table border=\"1\" class=\"dataframe\">\n",
       "  <thead>\n",
       "    <tr style=\"text-align: right;\">\n",
       "      <th></th>\n",
       "      <th>Exposure at Default (in lakh Rs.)</th>\n",
       "      <th>Recovery (%)</th>\n",
       "      <th>Probability of Default</th>\n",
       "      <th>Total_Recovery_amt</th>\n",
       "      <th>Total_Loss_Amt</th>\n",
       "    </tr>\n",
       "  </thead>\n",
       "  <tbody>\n",
       "    <tr>\n",
       "      <th>0</th>\n",
       "      <td>11.50</td>\n",
       "      <td>20.00</td>\n",
       "      <td>0.0070</td>\n",
       "      <td>230.0000</td>\n",
       "      <td>-218.5000</td>\n",
       "    </tr>\n",
       "    <tr>\n",
       "      <th>1</th>\n",
       "      <td>0.24</td>\n",
       "      <td>5.10</td>\n",
       "      <td>0.0033</td>\n",
       "      <td>1.2240</td>\n",
       "      <td>-0.9840</td>\n",
       "    </tr>\n",
       "    <tr>\n",
       "      <th>2</th>\n",
       "      <td>0.04</td>\n",
       "      <td>24.86</td>\n",
       "      <td>0.0022</td>\n",
       "      <td>0.9944</td>\n",
       "      <td>-0.9544</td>\n",
       "    </tr>\n",
       "    <tr>\n",
       "      <th>3</th>\n",
       "      <td>13.81</td>\n",
       "      <td>2.29</td>\n",
       "      <td>0.0066</td>\n",
       "      <td>31.6249</td>\n",
       "      <td>-17.8149</td>\n",
       "    </tr>\n",
       "    <tr>\n",
       "      <th>4</th>\n",
       "      <td>19.84</td>\n",
       "      <td>3.47</td>\n",
       "      <td>0.0020</td>\n",
       "      <td>68.8448</td>\n",
       "      <td>-49.0048</td>\n",
       "    </tr>\n",
       "  </tbody>\n",
       "</table>\n",
       "</div>"
      ],
      "text/plain": [
       "   Exposure at Default (in lakh Rs.)  Recovery (%)  Probability of Default  \\\n",
       "0                              11.50         20.00                  0.0070   \n",
       "1                               0.24          5.10                  0.0033   \n",
       "2                               0.04         24.86                  0.0022   \n",
       "3                              13.81          2.29                  0.0066   \n",
       "4                              19.84          3.47                  0.0020   \n",
       "\n",
       "   Total_Recovery_amt  Total_Loss_Amt  \n",
       "0            230.0000       -218.5000  \n",
       "1              1.2240         -0.9840  \n",
       "2              0.9944         -0.9544  \n",
       "3             31.6249        -17.8149  \n",
       "4             68.8448        -49.0048  "
      ]
     },
     "execution_count": 22,
     "metadata": {},
     "output_type": "execute_result"
    }
   ],
   "source": [
    "inp0.head()"
   ]
  },
  {
   "cell_type": "code",
   "execution_count": 23,
   "id": "65cb8685",
   "metadata": {},
   "outputs": [
    {
     "data": {
      "text/plain": [
       "-2370557.8559"
      ]
     },
     "execution_count": 23,
     "metadata": {},
     "output_type": "execute_result"
    }
   ],
   "source": [
    "inp0.Total_Loss_Amt.sum()"
   ]
  },
  {
   "cell_type": "code",
   "execution_count": null,
   "id": "5d004b5b",
   "metadata": {},
   "outputs": [],
   "source": []
  },
  {
   "cell_type": "markdown",
   "id": "dc31b6a0",
   "metadata": {},
   "source": [
    "#### Practice Questions EV "
   ]
  },
  {
   "cell_type": "markdown",
   "id": "411af352",
   "metadata": {},
   "source": [
    "#### Expected Loss\n",
    "\n",
    "Now, to find the expected loss, the bank has created the following table. As you already know, the probability of customer 1 being a defaulter is 0.007 and that of the customer not being a defaulter is 0.993. Now, in the case of default, what would be the value of X, i.e. the money lost by the bank?\n",
    "\n",
    "Defaulter/Non-defaulter\t   Probability   \tX (Money Lost by Bank)\n",
    "Defaulter\t0.007\t-\n",
    "Non-defaulter\t0.993\t0\n"
   ]
  },
  {
   "cell_type": "markdown",
   "id": "ec4ecdc6",
   "metadata": {},
   "source": [
    "₹9.2 lakh\n",
    "✓ Correct\n",
    "\n",
    "Feedback:\n",
    "\n",
    "The amount recovered would be equal to 20% of 11.5 lakh, i.e. ₹2.3 lakh. However, X is defined as the money lost by the bank. So, the amount lost would be equal to the total money exposed, i.e. ₹11.5 lakh, minus the money recovered, i.e. ₹2.3 lakh. That would mean that the money lost = 11.5 - 2.3 = ₹9.2 lakh."
   ]
  },
  {
   "cell_type": "markdown",
   "id": "449b853f",
   "metadata": {},
   "source": [
    "##### Expected Loss\n",
    "\n",
    "Now, the bank has the following data -\n",
    "\n",
    "Defaulter/Non-defaulter\t   Probability   \tX (Money Lost by Bank)\n",
    "Defaulter\t0.007\t₹9.2 lakh\n",
    "Non-defaulter\t0.993\t0\n",
    "What would be the expected loss (expected value of the money lost by the bank)?"
   ]
  },
  {
   "cell_type": "markdown",
   "id": "32d7ae0c",
   "metadata": {},
   "source": [
    "₹6440\n",
    "✓ Correct\n",
    "Feedback:\n",
    "\n",
    "The random variable X has two possible values, 9.2 lakh for when the customer defaults, and 0 for when the customer doesn’t. So, the Expected value = 9.2 lakh*P(X = 9.2 lakh) + 0*P(X=0) = 9,20,000*(0.007) + 0*(0.993) = 6,440"
   ]
  },
  {
   "cell_type": "markdown",
   "id": "c9727dff",
   "metadata": {},
   "source": [
    "##### Expected Loss\n",
    "So, in general, what would be the expected loss?"
   ]
  },
  {
   "cell_type": "markdown",
   "id": "1832dd43",
   "metadata": {},
   "source": [
    "PD*EAD*(1-R)\n",
    "✓ Correct\n",
    "Feedback:\n",
    "\n",
    "X can take two values. When the customer defaults, X = EAD - (EAD*R) = EAD*(1-R). When she/he doesn’t, X = 0. So, the Expected value = EAD(1-R)*P(X = EAD(1-R)) + 0*P(X=0) = EAD*(1-R)*PD + 0"
   ]
  },
  {
   "cell_type": "markdown",
   "id": "62dd6ef6",
   "metadata": {},
   "source": [
    "##### Expected Loss\n",
    "\n",
    "Now, the bank wants to find the total expected loss. This is done by calculating the expected losses for each of the 10,000 customers and then adding them up.\n",
    "\n",
    "The data for all the customers of the bank is given in the file Inferential Statistics - Student Loan.csv. What would be the value of the total expected loss?"
   ]
  },
  {
   "cell_type": "markdown",
   "id": "4f69f92b",
   "metadata": {},
   "source": [
    "Feedback:\n",
    "    \n",
    "As you saw in the previous question, expected loss because of the first customer is ₹6,440. In general, it is given by PD * EAD * (1-R) for each customer. Using R or Excel, you can find the expected loss for each customer using this formula. Adding up all of these 10,000 customers' expected losses, we get that the total expected loss = ₹4.93 crores."
   ]
  },
  {
   "cell_type": "markdown",
   "id": "6af05cf7",
   "metadata": {},
   "source": [
    "## Graded Questions"
   ]
  },
  {
   "cell_type": "markdown",
   "id": "3c453a8c",
   "metadata": {},
   "source": [
    "##### European Roulette Wheel\n",
    "First of all, what is the probability of Kriti winning the game if she bets on the number 5?"
   ]
  },
  {
   "cell_type": "markdown",
   "id": "d129bdb2",
   "metadata": {},
   "source": [
    "1/37\n",
    "✓ Correct\n",
    "\n",
    "Feedback:\n",
    "\n",
    "There are a total of 37 equally likely possibilities (0 to 36). However, there is only one possibility in which Kriti will win, i.e. the one in which the ball would land on the pocket marked 5. Hence, the probability of her winning the game is 1/37."
   ]
  },
  {
   "cell_type": "markdown",
   "id": "fd4d2ee8",
   "metadata": {},
   "source": [
    "##### European Roulette Wheel\n",
    "\n",
    "Now, let’s say that we define the random variable X as Kriti’s net winnings if she plays this game and bets £100 on the number 5. What is the expected value of X?"
   ]
  },
  {
   "cell_type": "markdown",
   "id": "b1021de3",
   "metadata": {},
   "source": [
    "£2.70\n",
    "✓ Correct\n",
    "Feedback:\n",
    "There are two possible values of X, 3,500 and -100. The probability of Kriti’s net winnings being 3,500 is basically the probability of her winning the game, which, as we saw in a previous question, is 1/37. The probability of her net winnings being equal to -100 is basically the probability of her losing the game, which is 36/37. So, the expected value of X = P(X=-100) * (-100) + P(X=3500) * 3500 = (36/37) * (-100)+(1/37) * (3500) = -2.70."
   ]
  },
  {
   "cell_type": "markdown",
   "id": "a527f662",
   "metadata": {},
   "source": [
    "#### American Roulette Wheel\n",
    "\n",
    "Now, again, let’s define the random variable X as Kriti’s net winnings if she plays this game and bets £100 on the number 5. What is the expected value of X this time?"
   ]
  },
  {
   "cell_type": "code",
   "execution_count": 28,
   "id": "e32ec086",
   "metadata": {},
   "outputs": [
    {
     "data": {
      "text/plain": [
       "-5.26315789473685"
      ]
     },
     "execution_count": 28,
     "metadata": {},
     "output_type": "execute_result"
    }
   ],
   "source": [
    "(37/38)*(-100)+(1/38)*(3500)"
   ]
  },
  {
   "cell_type": "markdown",
   "id": "03dce30f",
   "metadata": {},
   "source": [
    "-£5.26\n",
    "✓ Correct\n",
    "Feedback:\n",
    "\n",
    "Again, there are two possible values of X, 3,500 and -100. However, this time, the probability of Kriti’s net winnings being 3,500 is 1/38, as there are a total of 38 possible outcomes. The probability of her net winnings being equal to -100, basically the probability of her losing the game, is now 37/38. So, the expected value of X = P(X=-100)*(-100) + P(X=3500)*3500 = (37/38)*(-100)+(1/38)*(3500) = -5.26."
   ]
  },
  {
   "cell_type": "code",
   "execution_count": 24,
   "id": "825ab949",
   "metadata": {},
   "outputs": [
    {
     "data": {
      "text/plain": [
       "0.02702702702702703"
      ]
     },
     "execution_count": 24,
     "metadata": {},
     "output_type": "execute_result"
    }
   ],
   "source": [
    "1/37"
   ]
  },
  {
   "cell_type": "code",
   "execution_count": 26,
   "id": "2be96f9d",
   "metadata": {},
   "outputs": [
    {
     "data": {
      "text/plain": [
       "99.973"
      ]
     },
     "execution_count": 26,
     "metadata": {},
     "output_type": "execute_result"
    }
   ],
   "source": [
    "100-0.027"
   ]
  },
  {
   "cell_type": "markdown",
   "id": "a6e48a84",
   "metadata": {},
   "source": [
    "##### Discrete Probability Distributions\n",
    "\n",
    "What is the probability that 2 of the 10 packets tested would turn out to be defective?\n"
   ]
  },
  {
   "cell_type": "markdown",
   "id": "9919ea1c",
   "metadata": {},
   "source": [
    "7.46%\n",
    "✓ Correct\n",
    "\n",
    "Feedback:\n",
    "\n",
    "Let’s define X as the number of pasta packets found to be defective after testing 10 packets. Then, X would follow a binomial distribution with n = 10 and p = 0.05, the probability of finding a defective packet. Now, the probability asked in the question becomes \n",
    "P(X=2)=10C2(0.05)2(0.95)8\n",
    " = 0.0746, or 07.46%.\n"
   ]
  },
  {
   "cell_type": "markdown",
   "id": "a30f85fa",
   "metadata": {},
   "source": [
    "###### Discrete Probability Distributions\n",
    "\n",
    "What is the probability that, after testing these 10 packets, not more than 2 packets would turn out to be defective?"
   ]
  },
  {
   "cell_type": "code",
   "execution_count": 4,
   "id": "5492d137",
   "metadata": {},
   "outputs": [
    {
     "data": {
      "text/plain": [
       "0.9254"
      ]
     },
     "execution_count": 4,
     "metadata": {},
     "output_type": "execute_result"
    }
   ],
   "source": [
    "#P(X<=2)=P(X<2)+P(X=2)\n",
    "1-0.0746"
   ]
  },
  {
   "cell_type": "markdown",
   "id": "b05ec8e4",
   "metadata": {},
   "source": [
    "98.84%\n",
    "✓Correct\n",
    "Feedback: \n",
    "    IfXisdefinedasthenumberofpastapacketsfoundtobedefectiveaftertesting10packets,\n",
    "thenXwouldfollowabinomialdistributionwithn=10andp=0.05.So,\n",
    "theprobabilityaskedinthequestionbecomes\n",
    "P(X<=2)=P(X=0)+P(X=1)+P(X=2)=10C0(0.95)10+10C1(0.05)1(0.95)9+10C2(0.05)2(0.95)8=0.5987+0.3151+0.0746=0.9884,\n",
    "or98.84%."
   ]
  },
  {
   "cell_type": "markdown",
   "id": "a9bcb475",
   "metadata": {},
   "source": [
    "###### Discrete Probability Distributions\n",
    "\n",
    "Let’s define X as the number of packets found to be defective after the 10 packets have been tested. What will be the expected value of X?\n",
    "\n",
    "(Hint: You can Use Excel or R for the calculations for this part. Use \"COMBIN(n,r)\" in Excel and \"choose(n,r)\" in R to find )"
   ]
  },
  {
   "cell_type": "markdown",
   "id": "a36fefaf",
   "metadata": {},
   "source": [
    "0.5\n",
    "✓ Correct\n",
    "\n",
    "Feedback:\n",
    "If X is defined as the number of pasta packets found to be defective after testing 10 packets, then X would follow a binomial distribution with n = 10 and p = 0.05. Now, you want to find the expected value, which would be equal to EV(X) = 0*P(X=0) + 1*P(X=1) + 2*P(X=2) + 3*P(X=3) + 4*P(X=4) + 5*P(X=5) + 6*P(X=6) + 7*P(X=7) + 8*P(X=8) + 9*P(X=9) + 10*P(X=10). Using a spreadsheet to calculate the individual probabilities, you can find that the expected value EV(X) = 0.5"
   ]
  },
  {
   "cell_type": "code",
   "execution_count": null,
   "id": "c56390c2",
   "metadata": {},
   "outputs": [],
   "source": [
    "2 coins\n",
    "(T,T)(H,T)(T,H)(H,H)= 2/4+1/4+2/4 =4/12=2/6=1/3"
   ]
  },
  {
   "cell_type": "code",
   "execution_count": 6,
   "id": "d0a797e0",
   "metadata": {},
   "outputs": [
    {
     "data": {
      "text/plain": [
       "0.4166666666666667"
      ]
     },
     "execution_count": 6,
     "metadata": {},
     "output_type": "execute_result"
    }
   ],
   "source": [
    "5/12"
   ]
  },
  {
   "cell_type": "markdown",
   "id": "1827e1a4",
   "metadata": {},
   "source": [
    "##### Expected Value\n",
    "\n",
    "Suppose you’re conducting an experiment by tossing two coins simultaneously. You then note down the number of tails in each toss. How many tails can you expect on average in each experiment on average?\n",
    "\n",
    "###### Answer : 1"
   ]
  },
  {
   "cell_type": "markdown",
   "id": "3f9ac08b",
   "metadata": {},
   "source": [
    "##### Expected Value\n",
    "\n",
    "Suppose you go to a shoe-shop to buy a pair of shoes. There are 50 pairs of shoes in the shop in-total. Every time you ask the shopkeeper to show you a pair of shoes, he draws 3 pair of shoes randomly from his stock of 50 pairs. If you don’t like any of the pairs, he places all the 3 of them back and then draws 3 pairs again, randomly. Out of all the 50 pairs, 7 pairs of shoes are defected. What is the expected number of defective shoes in a given trial?"
   ]
  },
  {
   "cell_type": "markdown",
   "id": "64389ed8",
   "metadata": {},
   "source": [
    "##### Answer : 0.42\n",
    "X = {0,1,2,3}\n",
    "P(X) = {(3/0)(7/50)0(43/50)3,(3/1)(7/50)1(43/50)2,(3/2)(7/50)2(43/50)1,(3/3)(7/50)3,(43/50)0}\n",
    "Put the above terminal in the formula E[X] = ∑X×P(X) to get 0.42\n"
   ]
  },
  {
   "cell_type": "markdown",
   "id": "d2fc41d2",
   "metadata": {},
   "source": [
    "###### Expected Value\n",
    "Suppose you’re playing a game using two dice. Upon throwing the two dice simultaneously, if their sum equals 4, then you get 1000 rupees. If their sum is anything other than 4, you lose 100 rupees. What is the expected earning/loss in this game?"
   ]
  },
  {
   "cell_type": "markdown",
   "id": "0ef3e961",
   "metadata": {},
   "source": [
    "##### Answer :-8.33"
   ]
  },
  {
   "cell_type": "code",
   "execution_count": null,
   "id": "648bd5c5",
   "metadata": {},
   "outputs": [],
   "source": [
    "X = {+1000, -100}\n",
    "P(X) = {3/36, 33/36}\n"
   ]
  },
  {
   "cell_type": "code",
   "execution_count": 10,
   "id": "4ce67c26",
   "metadata": {},
   "outputs": [
    {
     "data": {
      "text/plain": [
       "-8.333333333333329"
      ]
     },
     "execution_count": 10,
     "metadata": {},
     "output_type": "execute_result"
    }
   ],
   "source": [
    "1000*(3/36)-100*(33/36)"
   ]
  },
  {
   "cell_type": "markdown",
   "id": "2bbb0112",
   "metadata": {},
   "source": [
    "###### Expected Value\n",
    "Rahul wants to play a poker game. The entry charge for the game is a non-refundable INR 2000 and probability that Rahul wins a poker game is 3%. The prize money is INR 50000. If Rahul wins, he gets the prize money. If he loses, he gets nothing. What's his expected earning/loss per game?"
   ]
  },
  {
   "cell_type": "markdown",
   "id": "b70e2be9",
   "metadata": {},
   "source": [
    "X = {+48000, -2000}. In case Rahul wins, he'll get 50,000 but since he's spent 2000 as the ticket, the net profit will be 48000. 2. P(X) = {0.03, 0.97} E[X] = +48000*0.03 - 2000 *0.97 = 1440-1940 = -500"
   ]
  },
  {
   "cell_type": "markdown",
   "id": "6fbdce94",
   "metadata": {},
   "source": [
    "### Graded Questions"
   ]
  },
  {
   "cell_type": "markdown",
   "id": "b3ff7ebc",
   "metadata": {},
   "source": [
    "###### Pancreatic Cancer Hospital\n",
    "The hospital has a total of 10 patients suffering from pancreatic cancer. What is the probability that exactly 4 of these patients would survive the first year after receiving this treatment?"
   ]
  },
  {
   "cell_type": "code",
   "execution_count": null,
   "id": "3b0006af",
   "metadata": {},
   "outputs": [],
   "source": [
    "x={10,4}\n",
    "P(x)={0.40,0.60}\n",
    "4*0.40+6*0.60"
   ]
  },
  {
   "cell_type": "markdown",
   "id": "e5b246e3",
   "metadata": {},
   "source": [
    "There are a total of 10 patients and the probability of surviving the first year is 40%, or 0.4 for each of them. Hence, the probability of 4 patients surviving is given by P(X=4) = 10C4(0.4)4(0.6)6 = 0.251 or 25.1%."
   ]
  },
  {
   "cell_type": "markdown",
   "id": "edd57db1",
   "metadata": {},
   "source": [
    "What is the probability that the number of patients that survive the first year after receiving the treatment would not be more than 2?"
   ]
  },
  {
   "cell_type": "markdown",
   "id": "fe12f9b1",
   "metadata": {},
   "source": [
    "Let’s define X as the number of patients that will survive the first year after treatment. Now, according to the question, you have to find the probability of that number being less than or equal to 2, i.e. P(X<=2). You know that P(X<=2) = P(X=0) + P(X=1) + P(X=2) = 10C0(0.4)0(0.6)10+ 10C1(0.4)1(0.6)9+ 10C2(0.4)2(0.6)8= 0.167 or 16.7%"
   ]
  },
  {
   "cell_type": "markdown",
   "id": "cd7cb90b",
   "metadata": {},
   "source": [
    "##### Binomial Distribution\n",
    "Calculate the probability that at most 2 students are able to solve the high-level question"
   ]
  },
  {
   "cell_type": "markdown",
   "id": "aa75bdb6",
   "metadata": {},
   "source": [
    "For the high-level question, the probability that a randomly selected student is able to solve it is 0.3. We have a binomial distribution where n=10, r=2 and p=0.3 and we need to calculate P(X<=2) which is equal to P(X=0)+P(X=1)+P(X=2) = 10C0(0.3)0(0.7)10 + 10C1(0.3)1(0.7)9 + 10C2(0.3)2(0.7)8= 0.38"
   ]
  },
  {
   "cell_type": "markdown",
   "id": "e1850bf3",
   "metadata": {},
   "source": [
    "##### Binomial Distribution\n",
    "What is the probability that exactly 4 students are able to solve all the 3 questions?\n",
    "\n",
    "Hint: First you need to calculate the probability that a randomly selected student is able to solve all the 3 questions."
   ]
  },
  {
   "cell_type": "markdown",
   "id": "ad812ad6",
   "metadata": {},
   "source": [
    "You might observe that the probability where a student is able to solve a particular level of question has no bearing on the probability of whether the same student is able to solve any other level type of question, i.e. all the three scenarios are independent of each other. Hence using the multiplication rule of probability, you get the probability that a randomly selected student is able to solve all the three questions correctly as 0.85*0.6*0.3=0.153. This becomes the value of p and we have n=10 and we need to calculate P(X=4) which is equal to, 10C4(0.153)4(0.847)6  = 0.0425 = 4.25%."
   ]
  },
  {
   "cell_type": "markdown",
   "id": "f42f0406",
   "metadata": {},
   "source": [
    "##### Binomial Distribution\n",
    "\n",
    "After all the 10 students attempted the test, she found that 7 students were able to solve the normal level question, 5 students were able to solve the intermediate level question and only 2 students were able to solve the high-level question. What was the theoretical probability that such a situation would have occurred?"
   ]
  },
  {
   "cell_type": "markdown",
   "id": "8ae5bd99",
   "metadata": {},
   "source": [
    "\n",
    "                                                Level of Difficulty of Question\tNormal\tIntermediate\tHigh\n",
    "The probability that a randomly selected student is able to solve the question\t0.85\t     0.6\t 0.3"
   ]
  },
  {
   "cell_type": "markdown",
   "id": "3c453f6d",
   "metadata": {},
   "source": [
    "First let us define X1, X2 and X3 as the number of students who are able to solve the normal, intermediate and high-level question respectively. Now for the given values of n and p in each case,  we calculate the theoretical probability for the three scenarios separately. This gives us P(X1 = 7)= 10C7(0.85)7(0.15)3=0.13 , P(X2 = 5)=10C5(0.6)5(0.4)5 = 0.20 and P(X3 =2)= 10C2(0.3)2(0.7)8=0.23 . Here again, the three scenarios, i.e. '7 students solving the normal level question', '5 students solving the intermediate question' and '2 students solving the high-level question' are all independent of each other. Using this information, we have the probability that all of them occurred simultaneously as 0.13*0.20*0.23 = 0.006 = 0.6 %"
   ]
  },
  {
   "cell_type": "markdown",
   "id": "a6f96d47",
   "metadata": {},
   "source": [
    "##### Binomial Distribution\n",
    "The chances of a team winning a match is 0.4. Find the probability that the team will win at least one match out of five."
   ]
  },
  {
   "cell_type": "markdown",
   "id": "4657925e",
   "metadata": {},
   "source": [
    "Probability of team winning at least one match = 1-P(team winning zero matches). Using binomial distribution formula, P(team winning zero matches) = 0.6^5 = 0.077. Therefore, 1-0.077 is 0.922."
   ]
  },
  {
   "cell_type": "markdown",
   "id": "8796b792",
   "metadata": {},
   "source": [
    "##### Binomial Distribution\n",
    "In an exam, there are 5 multiple choice questions. Each question has four options and only one option is correct. What is the probability that a student attempting the exam gets 3 or more correct answers out of 5 questions assuming that the probability of getting a correct answer is 1/4?"
   ]
  },
  {
   "cell_type": "markdown",
   "id": "3959e203",
   "metadata": {},
   "source": [
    "Using binomial distribution and cumulative formula, we need to find \n",
    "P(X⩾3)."
   ]
  },
  {
   "cell_type": "markdown",
   "id": "006d0370",
   "metadata": {},
   "source": [
    "#### Expected Value\n",
    "What is the expected profit/loss on average from the Tiger Lottery?"
   ]
  },
  {
   "cell_type": "markdown",
   "id": "d8e451e9",
   "metadata": {},
   "source": [
    "If you win, you get ₹60,000. But you also spent ₹5,000. So net profit on winning is ₹55,000. Similarly, in case you lose, it'll cost you just ₹5,000 which was your ticket price. Therefore,\n",
    "\n",
    "1. X = {+55000, -5000}\n",
    "\n",
    "2. P(X) = {1/20, 19/20}\n",
    "\n",
    "Using above terms, E[X] = -2000"
   ]
  },
  {
   "cell_type": "markdown",
   "id": "758ffc2d",
   "metadata": {},
   "source": [
    "What is the expected profit/loss on average from society's lottery?"
   ]
  },
  {
   "cell_type": "markdown",
   "id": "88ddae55",
   "metadata": {},
   "source": [
    "Society lottery:\n",
    "\n",
    "An initial investment of ₹4,000 was required. There's a 30% chance of winning a cash prize of ₹25,000. If you win, you get the cash prize as well as your initial investment. If you lose, you'll get nothing."
   ]
  },
  {
   "cell_type": "markdown",
   "id": "a19ed0b7",
   "metadata": {},
   "source": [
    "The net profit on winning is -4000+25000+4000 = ₹25000 .If you lose, it'll cost you = -4000+0 =  -₹4000 Let's define the X: 1. X = {+25000, -4000} 2. P(X) = {0.3, 0.7} 3. E[X] = 25000(0.3) + (-4000)(0.7) = +4700\n"
   ]
  },
  {
   "cell_type": "markdown",
   "id": "5dea354c",
   "metadata": {},
   "source": [
    "Since the expected profit in the society's lottery is higher than that of Tiger Lottery, it was a better lottery to take part in."
   ]
  },
  {
   "cell_type": "code",
   "execution_count": 3,
   "id": "4a848d64",
   "metadata": {},
   "outputs": [],
   "source": [
    "inp0=pd.read_csv('Inferntial Statistics - UpGrad Samples.csv')"
   ]
  },
  {
   "cell_type": "code",
   "execution_count": 4,
   "id": "0a9b6414",
   "metadata": {},
   "outputs": [
    {
     "data": {
      "text/html": [
       "<div>\n",
       "<style scoped>\n",
       "    .dataframe tbody tr th:only-of-type {\n",
       "        vertical-align: middle;\n",
       "    }\n",
       "\n",
       "    .dataframe tbody tr th {\n",
       "        vertical-align: top;\n",
       "    }\n",
       "\n",
       "    .dataframe thead th {\n",
       "        text-align: right;\n",
       "    }\n",
       "</style>\n",
       "<table border=\"1\" class=\"dataframe\">\n",
       "  <thead>\n",
       "    <tr style=\"text-align: right;\">\n",
       "      <th></th>\n",
       "      <th>Sample No.</th>\n",
       "      <th>Sample Mean</th>\n",
       "    </tr>\n",
       "  </thead>\n",
       "  <tbody>\n",
       "    <tr>\n",
       "      <th>0</th>\n",
       "      <td>1</td>\n",
       "      <td>3.2</td>\n",
       "    </tr>\n",
       "    <tr>\n",
       "      <th>1</th>\n",
       "      <td>2</td>\n",
       "      <td>2.6</td>\n",
       "    </tr>\n",
       "    <tr>\n",
       "      <th>2</th>\n",
       "      <td>3</td>\n",
       "      <td>2.8</td>\n",
       "    </tr>\n",
       "    <tr>\n",
       "      <th>3</th>\n",
       "      <td>4</td>\n",
       "      <td>2.0</td>\n",
       "    </tr>\n",
       "    <tr>\n",
       "      <th>4</th>\n",
       "      <td>5</td>\n",
       "      <td>3.0</td>\n",
       "    </tr>\n",
       "  </tbody>\n",
       "</table>\n",
       "</div>"
      ],
      "text/plain": [
       "   Sample No.  Sample Mean\n",
       "0           1          3.2\n",
       "1           2          2.6\n",
       "2           3          2.8\n",
       "3           4          2.0\n",
       "4           5          3.0"
      ]
     },
     "execution_count": 4,
     "metadata": {},
     "output_type": "execute_result"
    }
   ],
   "source": [
    "inp0.head()"
   ]
  },
  {
   "cell_type": "code",
   "execution_count": 7,
   "id": "6fb2058b",
   "metadata": {},
   "outputs": [
    {
     "data": {
      "text/plain": [
       "2.3480000000000003"
      ]
     },
     "execution_count": 7,
     "metadata": {},
     "output_type": "execute_result"
    }
   ],
   "source": [
    "inp0['Sample Mean'].sum()/len(inp0['Sample Mean'])"
   ]
  },
  {
   "cell_type": "code",
   "execution_count": 8,
   "id": "1f6f02a7",
   "metadata": {},
   "outputs": [
    {
     "data": {
      "text/plain": [
       "count    100.000000\n",
       "mean       2.348000\n",
       "std        0.426989\n",
       "min        1.400000\n",
       "25%        2.000000\n",
       "50%        2.400000\n",
       "75%        2.600000\n",
       "max        3.200000\n",
       "Name: Sample Mean, dtype: float64"
      ]
     },
     "execution_count": 8,
     "metadata": {},
     "output_type": "execute_result"
    }
   ],
   "source": [
    "inp0['Sample Mean'].describe()"
   ]
  },
  {
   "cell_type": "markdown",
   "id": "de2f5399",
   "metadata": {},
   "source": [
    "##### Exit Poll Confidence Interval\n",
    "So, you define X as the proportion of people that voted for BJP. Now, for a 95% confidence interval, what would be the value of the MOE (margin of error)?"
   ]
  },
  {
   "cell_type": "markdown",
   "id": "3a694a45",
   "metadata": {},
   "source": [
    "Feedback:\n",
    "\n",
    "The margin of error = Z∗S√n\n",
    ". From the data given above, you know that S = 49.6% or 0.496 and n = 100. The value of Z* corresponding to 95% confidence is 1.96. So, the margin of error = 1.96∗0.496√100= 0.0972, or 9.72%"
   ]
  },
  {
   "cell_type": "markdown",
   "id": "c4ff56f2",
   "metadata": {},
   "source": [
    "What would the 95% confidence interval be for X, the proportion of people that voted for BJP?"
   ]
  },
  {
   "cell_type": "markdown",
   "id": "822cf4b5",
   "metadata": {},
   "source": [
    "Feedback:\n",
    "Recall that the margin of error = 9.72% and the sample mean \n",
    "X= 58%. So, the confidence interval is (58%-9.72%, 58%+9.72%)"
   ]
  },
  {
   "cell_type": "markdown",
   "id": "de013cb9",
   "metadata": {},
   "source": [
    "What would the 95% confidence interval be for Y, the proportion of people that voted for INC?"
   ]
  },
  {
   "cell_type": "code",
   "execution_count": 9,
   "id": "5666729c",
   "metadata": {},
   "outputs": [
    {
     "data": {
      "text/plain": [
       "32.28"
      ]
     },
     "execution_count": 9,
     "metadata": {},
     "output_type": "execute_result"
    }
   ],
   "source": [
    "42-9.72"
   ]
  },
  {
   "cell_type": "code",
   "execution_count": 10,
   "id": "75248eab",
   "metadata": {},
   "outputs": [
    {
     "data": {
      "text/plain": [
       "51.72"
      ]
     },
     "execution_count": 10,
     "metadata": {},
     "output_type": "execute_result"
    }
   ],
   "source": [
    "42+9.72"
   ]
  },
  {
   "cell_type": "markdown",
   "id": "87535bde",
   "metadata": {},
   "source": [
    "Feedback:\n",
    "For the variable Y, the sample mean \n",
    "¯X= 42%. S, the sample’s standard deviation = 49.6% and the sample size n = 100. So, the 95% confidence interval = (¯X−Z∗S√n,¯X+Z∗S√n). Putting in the values, you get that the confidence interval is (32.28%, 51.72%)."
   ]
  },
  {
   "cell_type": "markdown",
   "id": "fd1d877d",
   "metadata": {},
   "source": [
    "Thus, with 95% confidence, you can:"
   ]
  },
  {
   "cell_type": "markdown",
   "id": "bb7fe61f",
   "metadata": {},
   "source": [
    "Not make any claims regarding the election results for ward 75N\n",
    "✓ Correct\n",
    "Feedback:\n",
    "The percentage of voters that voted for BJP, falls within the interval (48.28%, 67.72%). The interval for the percentage of voters that voted for INC is (32.28%, 51.72%). Hence, anything is possible. It is possible that BJP gets 67.72% of the votes and wins the election, but it is also possible that INC could get 51.72% of the votes and win the election for ward 75N. Hence, you cannot decide the winner based on this information."
   ]
  },
  {
   "cell_type": "code",
   "execution_count": 11,
   "id": "c2bfbedf",
   "metadata": {},
   "outputs": [],
   "source": [
    "df =pd.read_csv('Inferential Statistics - Powai Flats Rent.csv')"
   ]
  },
  {
   "cell_type": "code",
   "execution_count": 12,
   "id": "8230d8b9",
   "metadata": {},
   "outputs": [
    {
     "data": {
      "text/html": [
       "<div>\n",
       "<style scoped>\n",
       "    .dataframe tbody tr th:only-of-type {\n",
       "        vertical-align: middle;\n",
       "    }\n",
       "\n",
       "    .dataframe tbody tr th {\n",
       "        vertical-align: top;\n",
       "    }\n",
       "\n",
       "    .dataframe thead th {\n",
       "        text-align: right;\n",
       "    }\n",
       "</style>\n",
       "<table border=\"1\" class=\"dataframe\">\n",
       "  <thead>\n",
       "    <tr style=\"text-align: right;\">\n",
       "      <th></th>\n",
       "      <th>S. No.</th>\n",
       "      <th>Monthly Rent</th>\n",
       "    </tr>\n",
       "  </thead>\n",
       "  <tbody>\n",
       "    <tr>\n",
       "      <th>0</th>\n",
       "      <td>1</td>\n",
       "      <td>44000</td>\n",
       "    </tr>\n",
       "    <tr>\n",
       "      <th>1</th>\n",
       "      <td>2</td>\n",
       "      <td>49800</td>\n",
       "    </tr>\n",
       "    <tr>\n",
       "      <th>2</th>\n",
       "      <td>3</td>\n",
       "      <td>45400</td>\n",
       "    </tr>\n",
       "    <tr>\n",
       "      <th>3</th>\n",
       "      <td>4</td>\n",
       "      <td>40700</td>\n",
       "    </tr>\n",
       "    <tr>\n",
       "      <th>4</th>\n",
       "      <td>5</td>\n",
       "      <td>43900</td>\n",
       "    </tr>\n",
       "  </tbody>\n",
       "</table>\n",
       "</div>"
      ],
      "text/plain": [
       "   S. No.  Monthly Rent\n",
       "0       1         44000\n",
       "1       2         49800\n",
       "2       3         45400\n",
       "3       4         40700\n",
       "4       5         43900"
      ]
     },
     "execution_count": 12,
     "metadata": {},
     "output_type": "execute_result"
    }
   ],
   "source": [
    "df.head()"
   ]
  },
  {
   "cell_type": "code",
   "execution_count": 13,
   "id": "b86ae64b",
   "metadata": {},
   "outputs": [
    {
     "data": {
      "text/plain": [
       "count      200.000000\n",
       "mean     45571.000000\n",
       "std       7457.521851\n",
       "min      30100.000000\n",
       "25%      41250.000000\n",
       "50%      44950.000000\n",
       "75%      49825.000000\n",
       "max      59800.000000\n",
       "Name: Monthly Rent, dtype: float64"
      ]
     },
     "execution_count": 13,
     "metadata": {},
     "output_type": "execute_result"
    }
   ],
   "source": [
    "df['Monthly Rent'].describe()"
   ]
  },
  {
   "cell_type": "code",
   "execution_count": 14,
   "id": "d3267543",
   "metadata": {},
   "outputs": [],
   "source": [
    "samp_size = 100"
   ]
  },
  {
   "cell_type": "code",
   "execution_count": 15,
   "id": "89ed21f1",
   "metadata": {},
   "outputs": [],
   "source": [
    "sample_means = [df['Monthly Rent'].sample(samp_size).mean() for i in range(100)]\n",
    "sample_means = pd.Series(sample_means)"
   ]
  },
  {
   "cell_type": "code",
   "execution_count": 17,
   "id": "3b389d06",
   "metadata": {},
   "outputs": [
    {
     "name": "stderr",
     "output_type": "stream",
     "text": [
      "C:\\Users\\6114782\\Anaconda3\\lib\\site-packages\\seaborn\\distributions.py:2619: FutureWarning: `distplot` is a deprecated function and will be removed in a future version. Please adapt your code to use either `displot` (a figure-level function with similar flexibility) or `histplot` (an axes-level function for histograms).\n",
      "  warnings.warn(msg, FutureWarning)\n"
     ]
    },
    {
     "data": {
      "image/png": "[encoded data removed]",
      "text/plain": [
       "<Figure size 640x480 with 1 Axes>"
      ]
     },
     "metadata": {},
     "output_type": "display_data"
    }
   ],
   "source": [
    "sns.distplot(sample_means)\n",
    "plt.show()"
   ]
  },
  {
   "cell_type": "code",
   "execution_count": 19,
   "id": "3ed4f1d1",
   "metadata": {},
   "outputs": [
    {
     "data": {
      "text/plain": [
       "45487.33"
      ]
     },
     "execution_count": 19,
     "metadata": {},
     "output_type": "execute_result"
    }
   ],
   "source": [
    "sample_means.mean()"
   ]
  },
  {
   "cell_type": "code",
   "execution_count": 20,
   "id": "4df37877",
   "metadata": {},
   "outputs": [
    {
     "data": {
      "text/plain": [
       "531.2075067735068"
      ]
     },
     "execution_count": 20,
     "metadata": {},
     "output_type": "execute_result"
    }
   ],
   "source": [
    "sample_means.std()"
   ]
  },
  {
   "cell_type": "code",
   "execution_count": 21,
   "id": "63077861",
   "metadata": {},
   "outputs": [
    {
     "data": {
      "text/plain": [
       "45571.0"
      ]
     },
     "execution_count": 21,
     "metadata": {},
     "output_type": "execute_result"
    }
   ],
   "source": [
    "df['Monthly Rent'].mean()"
   ]
  },
  {
   "cell_type": "code",
   "execution_count": 23,
   "id": "ae88765e",
   "metadata": {},
   "outputs": [
    {
     "data": {
      "text/plain": [
       "745.7521851178448"
      ]
     },
     "execution_count": 23,
     "metadata": {},
     "output_type": "execute_result"
    }
   ],
   "source": [
    "df['Monthly Rent'].std()/np.sqrt(samp_size)"
   ]
  },
  {
   "cell_type": "markdown",
   "id": "cd689198",
   "metadata": {},
   "source": [
    "##### 2 BHK Flat Rent in Powai\n",
    "What is the 90% confidence interval for the monthly rent in rupees?"
   ]
  },
  {
   "cell_type": "markdown",
   "id": "c92cc829",
   "metadata": {},
   "source": [
    "The confidence interval, as you remember, is given by (¯X−Z∗S√n,¯X+Z∗S√n). Using Excel, you can calculate that the mean, ¯X = ₹45,571 and the standard deviation S = 7457. Also, since the sample csv file has 200 entries, sample size, n = 200. Z* value for 90% confidence level is 1.65. Putting in all the values, you get the confidence interval (₹44,701, ₹46,441)."
   ]
  },
  {
   "cell_type": "markdown",
   "id": "99a728ae",
   "metadata": {},
   "source": [
    "What is the 99% confidence interval for the monthly rent in rupees?"
   ]
  },
  {
   "cell_type": "markdown",
   "id": "4f289ae1",
   "metadata": {},
   "source": [
    "The confidence interval, as you remember, is given by (¯X−Z∗S√n,¯X+Z∗S√n). In the last question, you found that the value of the mean, ¯X = ₹45,571 and the standard deviation, S = 7457. Also, you know that sample size, n = 200 and Z* value for 99% confidence level is 2.58. Putting in all the values, you will get the confidence interval (₹44,210, ₹46,932)."
   ]
  },
  {
   "cell_type": "markdown",
   "id": "952ef042",
   "metadata": {},
   "source": [
    "The confidence interval, is given by (¯X−Z∗S√n,¯X+Z∗S√n). Also, because of previous questions, you know that the value of the mean ¯X = ₹45,571, standard deviation S = 7457 and sample size n = 200. Now, using Z* value for 95% confidence level, which is 1.96, you will get the confidence interval (₹44,537, ₹46,605). Clearly, ₹46,500 lies inside the interval."
   ]
  },
  {
   "cell_type": "code",
   "execution_count": 24,
   "id": "7d1eca13",
   "metadata": {},
   "outputs": [],
   "source": [
    "df=pd.read_csv(\"https://media-doselect.s3.amazonaws.com/generic/N9LKLvBAx1y14PLoBdL0yRn3/Admission_Predict.csv\")"
   ]
  },
  {
   "cell_type": "code",
   "execution_count": 27,
   "id": "e408f4a3",
   "metadata": {},
   "outputs": [
    {
     "data": {
      "text/plain": [
       "(400, 9)"
      ]
     },
     "execution_count": 27,
     "metadata": {},
     "output_type": "execute_result"
    }
   ],
   "source": [
    "df.shape"
   ]
  },
  {
   "cell_type": "code",
   "execution_count": null,
   "id": "58ebd561",
   "metadata": {},
   "outputs": [],
   "source": [
    "X= 316.80\n",
    "S=11.47\n",
    "n=400\n",
    "Z* =1.65\n",
    "\n",
    "1.65*11.47/np.sqrt(400)"
   ]
  },
  {
   "cell_type": "code",
   "execution_count": 29,
   "id": "4d565352",
   "metadata": {},
   "outputs": [
    {
     "data": {
      "text/plain": [
       "315.853725"
      ]
     },
     "execution_count": 29,
     "metadata": {},
     "output_type": "execute_result"
    }
   ],
   "source": [
    "316.80-(1.65*11.47/np.sqrt(400))"
   ]
  },
  {
   "cell_type": "code",
   "execution_count": 30,
   "id": "ab1f9d1c",
   "metadata": {},
   "outputs": [
    {
     "data": {
      "text/plain": [
       "317.746275"
      ]
     },
     "execution_count": 30,
     "metadata": {},
     "output_type": "execute_result"
    }
   ],
   "source": [
    "316.80+(1.65*11.47/np.sqrt(400))"
   ]
  },
  {
   "cell_type": "code",
   "execution_count": 26,
   "id": "4dd1b346",
   "metadata": {},
   "outputs": [
    {
     "data": {
      "text/plain": [
       "count    400.000000\n",
       "mean     316.807500\n",
       "std       11.473646\n",
       "min      290.000000\n",
       "25%      308.000000\n",
       "50%      317.000000\n",
       "75%      325.000000\n",
       "max      340.000000\n",
       "Name: GRE Score, dtype: float64"
      ]
     },
     "execution_count": 26,
     "metadata": {},
     "output_type": "execute_result"
    }
   ],
   "source": [
    "df['GRE Score'].describe()"
   ]
  },
  {
   "cell_type": "markdown",
   "id": "9b971f91",
   "metadata": {},
   "source": [
    "The confidence interval, as you remember, is given by (¯X−Z∗S√n,¯X+Z∗S√n). Using Excel, you can calculate that the mean, ¯X = ₹45,571 and the standard deviation S = 7457. Also, since the sample csv file has 200 entries, sample size, n = 200. Z* value for 90% confidence level is 1.65. Putting in all the values, you get the confidence interval (₹44,701, ₹46,441)."
   ]
  },
  {
   "cell_type": "markdown",
   "id": "32f5f5fa",
   "metadata": {},
   "source": [
    "### Hypothesis Testing "
   ]
  },
  {
   "cell_type": "markdown",
   "id": "21b0ac01",
   "metadata": {},
   "source": [
    "##### P- value method"
   ]
  },
  {
   "cell_type": "markdown",
   "id": "1ff998d4",
   "metadata": {},
   "source": [
    "The p-Value Method\n",
    "Step 1: Calculate the value of the z-score for the sample mean point of the distribution. Calculate the z-score for the sample mean (¯x) = 34.5 months."
   ]
  },
  {
   "cell_type": "code",
   "execution_count": 1,
   "id": "e72b549b",
   "metadata": {},
   "outputs": [
    {
     "data": {
      "text/plain": [
       "1.5"
      ]
     },
     "execution_count": 1,
     "metadata": {},
     "output_type": "execute_result"
    }
   ],
   "source": [
    "36-34.5"
   ]
  },
  {
   "cell_type": "markdown",
   "id": "30ac4897",
   "metadata": {},
   "source": [
    "Z-score : z-score = (​​¯x​​ - μ)/(σ/​√n​)."
   ]
  },
  {
   "cell_type": "markdown",
   "id": "ce631aba",
   "metadata": {},
   "source": [
    "Z-score : (34.5 - 36)/(4/√49) = (-1.5) * 7/4 = -2.62"
   ]
  },
  {
   "cell_type": "code",
   "execution_count": 8,
   "id": "6a6772ef",
   "metadata": {},
   "outputs": [
    {
     "data": {
      "text/plain": [
       "0.0088"
      ]
     },
     "execution_count": 8,
     "metadata": {},
     "output_type": "execute_result"
    }
   ],
   "source": [
    "0.0044*2\n"
   ]
  },
  {
   "cell_type": "markdown",
   "id": "7e7de9a8",
   "metadata": {},
   "source": [
    "##### The p-Value Method\n",
    "Calculate the Z-score for the sample mean (¯x) = 510 mg."
   ]
  },
  {
   "cell_type": "markdown",
   "id": "096d9ae6",
   "metadata": {},
   "source": [
    "You can calculate the Z-score for the sample mean of 510 mg using the formula: (​¯x​ - μ) / (σ /​√N​). This gives you (510 - 500)/(110/√900) = (10)/(110/30) = 2.73. Notice that since the sample mean lies on the right side of the hypothesised mean of 500 mg, the Z-score comes out to be positive."
   ]
  },
  {
   "cell_type": "code",
   "execution_count": 2,
   "id": "d0a0ea94",
   "metadata": {},
   "outputs": [
    {
     "data": {
      "text/plain": [
       "0.006399999999999961"
      ]
     },
     "execution_count": 2,
     "metadata": {},
     "output_type": "execute_result"
    }
   ],
   "source": [
    "2*(1-0.9968)"
   ]
  },
  {
   "cell_type": "markdown",
   "id": "9612f1e3",
   "metadata": {},
   "source": [
    "##### The p-Value Method\n",
    "\n",
    "Find out the p-value for the Z-score of 2.73 (corresponding to the sample mean of 510 mg)."
   ]
  },
  {
   "cell_type": "markdown",
   "id": "92cc1209",
   "metadata": {},
   "source": [
    "Feedback:\n",
    "The value in the Z-table corresponding to 2.7 on the vertical axis and 0.03 on the horizontal axis is 0.9968. Since the sample mean is on the right side of the distribution and this is a two-tailed test (because we want to test whether the value of the paracetamol is too low or too high), the p-value would be 2 * (1 - 0.9968) = 2 * 0.0032 = 0.0064."
   ]
  },
  {
   "cell_type": "markdown",
   "id": "055a9695",
   "metadata": {},
   "source": [
    "Based on this hypothesis test, what decision would you make about the manufacturing process?"
   ]
  },
  {
   "cell_type": "markdown",
   "id": "fbcea620",
   "metadata": {},
   "source": [
    "Feedback:\n",
    "Here, the p-value comes out to be 0.0064. Here, the p-value is less than the significance level (0.0064 < 0.05) and a smaller p-value gives you greater evidence against the null hypothesis. So, you reject the null hypothesis that the average amount of paracetamol in medicines is 500 mg. So, this is a regulatory alarm for the company, and the manufacturing process needs to change."
   ]
  },
  {
   "cell_type": "markdown",
   "id": "b3f2b4f3",
   "metadata": {},
   "source": [
    "What are the null and alternative hypotheses in this case?"
   ]
  },
  {
   "cell_type": "markdown",
   "id": "83825775",
   "metadata": {},
   "source": [
    "H0:μ≥8% and H1:μ<8%\n",
    "\n",
    "✓ Correct\n",
    "\n",
    "Feedback:\n",
    "The null hypothesis must contain a = sign. The two arithmetic signs possible in this scenario are >= or <. Since >= has an equal to sign it becomes the null hypothesis."
   ]
  },
  {
   "cell_type": "markdown",
   "id": "6458365e",
   "metadata": {},
   "source": [
    "##### Z-Score of the Sample Mean\n",
    "\n",
    "Based on the information above, conduct a hypothesis test at a 5% significance level using the p-value method. What is the Z-score of the sample mean point ¯x= 7%?"
   ]
  },
  {
   "cell_type": "markdown",
   "id": "42cc9c7a",
   "metadata": {},
   "source": [
    "(​¯x​ - μ) / (σ /​√N​)."
   ]
  },
  {
   "cell_type": "markdown",
   "id": "fe6b74fd",
   "metadata": {},
   "source": [
    "μ=8%;σ=3%;n=36;¯x=7%;S.E.=3√36=0.5. Now, Z¯x=7−8/0.5=−2"
   ]
  },
  {
   "cell_type": "markdown",
   "id": "09656464",
   "metadata": {},
   "source": [
    "##### p-Value of the Z-Score\n",
    "\n",
    "Calculate the p-value from the cumulative probability for the given Z-score using the Z-table. In other words, find out the p-value for the Z-score of -2.0 (corresponding to the sample mean of 7%)."
   ]
  },
  {
   "cell_type": "markdown",
   "id": "406c337e",
   "metadata": {},
   "source": [
    "Feedback:\n",
    "The p-value corresponding to a Z-score of -2.0 is 0.0228."
   ]
  },
  {
   "cell_type": "code",
   "execution_count": 3,
   "id": "1f94b24a",
   "metadata": {},
   "outputs": [],
   "source": [
    "df =pd.read_excel('Hotstar+Data.xlsx')"
   ]
  },
  {
   "cell_type": "code",
   "execution_count": 4,
   "id": "fbc84118",
   "metadata": {},
   "outputs": [
    {
     "name": "stdout",
     "output_type": "stream",
     "text": [
      "<class 'pandas.core.frame.DataFrame'>\n",
      "RangeIndex: 121 entries, 0 to 120\n",
      "Data columns (total 2 columns):\n",
      " #   Column                                 Non-Null Count  Dtype\n",
      "---  ------                                 --------------  -----\n",
      " 0   Customer ID                            121 non-null    int64\n",
      " 1   Why did you purchase Hotstar Premium?  121 non-null    int64\n",
      "dtypes: int64(2)\n",
      "memory usage: 2.0 KB\n"
     ]
    }
   ],
   "source": [
    "df.info()"
   ]
  },
  {
   "cell_type": "code",
   "execution_count": 5,
   "id": "ebcd585e",
   "metadata": {},
   "outputs": [
    {
     "data": {
      "text/plain": [
       "count    121.000000\n",
       "mean       0.520661\n",
       "std        0.501650\n",
       "min        0.000000\n",
       "25%        0.000000\n",
       "50%        1.000000\n",
       "75%        1.000000\n",
       "max        1.000000\n",
       "Name: Why did you purchase Hotstar Premium?, dtype: float64"
      ]
     },
     "execution_count": 5,
     "metadata": {},
     "output_type": "execute_result"
    }
   ],
   "source": [
    "df['Why did you purchase Hotstar Premium?'].describe()"
   ]
  },
  {
   "cell_type": "code",
   "execution_count": null,
   "id": "c75e7822",
   "metadata": {},
   "outputs": [],
   "source": [
    "0.0392"
   ]
  },
  {
   "cell_type": "code",
   "execution_count": 7,
   "id": "a55898d9",
   "metadata": {},
   "outputs": [
    {
     "data": {
      "text/plain": [
       "5.0"
      ]
     },
     "execution_count": 7,
     "metadata": {},
     "output_type": "execute_result"
    }
   ],
   "source": [
    "np.sqrt(25)"
   ]
  },
  {
   "cell_type": "code",
   "execution_count": 9,
   "id": "c11ab1f0",
   "metadata": {},
   "outputs": [
    {
     "data": {
      "text/plain": [
       "0.95"
      ]
     },
     "execution_count": 9,
     "metadata": {},
     "output_type": "execute_result"
    }
   ],
   "source": [
    "1-0.05\n",
    "\n",
    "city-mpg\n",
    "highway-mpg"
   ]
  },
  {
   "cell_type": "code",
   "execution_count": 12,
   "id": "3e6fcec1",
   "metadata": {},
   "outputs": [
    {
     "data": {
      "text/plain": [
       "1.9665445899143185e-113"
      ]
     },
     "execution_count": 12,
     "metadata": {},
     "output_type": "execute_result"
    }
   ],
   "source": [
    "import pandas as pd \n",
    "import scipy.stats as stats\n",
    "df=pd.read_csv(\"https://media-doselect.s3.amazonaws.com/generic/K9WgyRZ75q4Pkdp38AQabgE0X/Automobile_data.csv\")\n",
    "# col1=input()\n",
    "# col2=input()\n",
    "#write your code here\n",
    "stats.ttest_rel(a=df['city-mpg'],b=df['highway-mpg']).pvalue\n",
    "\n",
    "CGPA\n",
    "8"
   ]
  },
  {
   "cell_type": "code",
   "execution_count": 14,
   "id": "6a69f8d5",
   "metadata": {},
   "outputs": [
    {
     "name": "stdout",
     "output_type": "stream",
     "text": [
      "CGPA\n"
     ]
    },
    {
     "data": {
      "text/plain": [
       "1.6070878523225544e-62"
      ]
     },
     "execution_count": 14,
     "metadata": {},
     "output_type": "execute_result"
    }
   ],
   "source": [
    "import pandas as pd \n",
    "import scipy.stats as stats\n",
    "df=pd.read_csv(\"https://media-doselect.s3.amazonaws.com/generic/5J7nrZegVWOORbGr4M7KVPXE5/Admission_Predict.csv\")\n",
    "col=input()\n",
    "x=float(8)\n",
    "stats.ttest_1samp(df[col],x).pvalue\n",
    "\n",
    "#TOEFL Score"
   ]
  },
  {
   "cell_type": "code",
   "execution_count": 17,
   "id": "7eeca57c",
   "metadata": {},
   "outputs": [
    {
     "name": "stdout",
     "output_type": "stream",
     "text": [
      "TOEFL Score\n",
      "Serial No.           204.00\n",
      "GRE Score            334.00\n",
      "TOEFL Score          120.00\n",
      "University Rating      5.00\n",
      "SOP                    4.00\n",
      "LOR                    5.00\n",
      "CGPA                   9.87\n",
      "Research               1.00\n",
      "Chance of Admit        0.97\n",
      "Name: 203, dtype: float64\n"
     ]
    }
   ],
   "source": [
    "import pandas as pd \n",
    "col=input()\n",
    "df=pd.read_csv(\"https://media-doselect.s3.amazonaws.com/generic/RM8r5NBrJdA4QeVZXvwbjokwv/Admission_Predict.csv\")\n",
    "#write your code here\n",
    "inp0=df.sort_values(by = col,ascending=False)\n",
    "print(inp0.iloc[4])\n",
    "\n",
    "#Sex\n",
    "pd.pivot_table(data=inp1,index='Content Rating',columns='Size_Bucket',values='Rating',aggfunc=np.median)"
   ]
  },
  {
   "cell_type": "code",
   "execution_count": 20,
   "id": "bdfb3ff2",
   "metadata": {},
   "outputs": [
    {
     "data": {
      "text/html": [
       "<div>\n",
       "<style scoped>\n",
       "    .dataframe tbody tr th:only-of-type {\n",
       "        vertical-align: middle;\n",
       "    }\n",
       "\n",
       "    .dataframe tbody tr th {\n",
       "        vertical-align: top;\n",
       "    }\n",
       "\n",
       "    .dataframe thead th {\n",
       "        text-align: right;\n",
       "    }\n",
       "</style>\n",
       "<table border=\"1\" class=\"dataframe\">\n",
       "  <thead>\n",
       "    <tr style=\"text-align: right;\">\n",
       "      <th>Pclass</th>\n",
       "      <th>1</th>\n",
       "      <th>2</th>\n",
       "      <th>3</th>\n",
       "    </tr>\n",
       "    <tr>\n",
       "      <th>Sex</th>\n",
       "      <th></th>\n",
       "      <th></th>\n",
       "      <th></th>\n",
       "    </tr>\n",
       "  </thead>\n",
       "  <tbody>\n",
       "    <tr>\n",
       "      <th>female</th>\n",
       "      <td>0.968085</td>\n",
       "      <td>0.921053</td>\n",
       "      <td>0.500000</td>\n",
       "    </tr>\n",
       "    <tr>\n",
       "      <th>male</th>\n",
       "      <td>0.368852</td>\n",
       "      <td>0.157407</td>\n",
       "      <td>0.135447</td>\n",
       "    </tr>\n",
       "  </tbody>\n",
       "</table>\n",
       "</div>"
      ],
      "text/plain": [
       "Pclass         1         2         3\n",
       "Sex                                 \n",
       "female  0.968085  0.921053  0.500000\n",
       "male    0.368852  0.157407  0.135447"
      ]
     },
     "execution_count": 20,
     "metadata": {},
     "output_type": "execute_result"
    }
   ],
   "source": [
    "import pandas as pd \n",
    "df=pd.read_csv(\"https://media-doselect.s3.amazonaws.com/generic/pLMXoA0GZNAPMRNrdnn88pOxb/train.csv\")\n",
    "#col=input()\n",
    "pd.pivot_table(data=df,index='Sex',columns='Pclass',values='Survived')"
   ]
  },
  {
   "cell_type": "code",
   "execution_count": 21,
   "id": "238237d3",
   "metadata": {},
   "outputs": [],
   "source": [
    "def flatten_dict(dd, separator ='_', prefix =''):\n",
    "    return { prefix + separator + k if prefix else k : v\n",
    "             for kk, vv in dd.items()\n",
    "             for k, v in flatten_dict(vv, separator, kk).items()\n",
    "             } if isinstance(dd, dict) else { prefix : dd }"
   ]
  },
  {
   "cell_type": "code",
   "execution_count": 23,
   "id": "818d87b2",
   "metadata": {},
   "outputs": [
    {
     "name": "stdout",
     "output_type": "stream",
     "text": [
      "['Fruit', 'Spices', 'Vegetable_Cabbage', 'Vegetable_Cauliflower']\n",
      "[1, 2, 3, 4]\n"
     ]
    }
   ],
   "source": [
    "#import ast,sys\n",
    "#input_str = sys.stdin.read()\n",
    "input_dict = dict({'Fruit': 1, 'Vegetable': {'Cabbage': 2, 'Cauliflower': 3}, 'Spices': 4})\n",
    "#def flatten_dict(dd, separator='_', prefix=''):\n",
    "    #complete this function\n",
    "\n",
    "out1=list(flatten_dict(input_dict).keys())\n",
    "out2=list(flatten_dict(input_dict).values())\n",
    "out1.sort()\n",
    "out2.sort()\n",
    "print(out1)\n",
    "print(out2)"
   ]
  },
  {
   "cell_type": "code",
   "execution_count": null,
   "id": "15dca02e",
   "metadata": {},
   "outputs": [],
   "source": [
    "import re\n",
    "pwd=input()\n",
    "#write your code here\n",
    "flag = 0\n",
    "while True:\n",
    "    if (len(pwd)<=8):\n",
    "        flag = -1\n",
    "        break\n",
    "    elif not re.search(\"[a-z]\", pwd):\n",
    "        flag = -1\n",
    "        break\n",
    "    elif not re.search(\"[A-Z]\", pwd):\n",
    "        flag = -1\n",
    "        break\n",
    "    elif not re.search(\"[0-9]\", pwd):\n",
    "        flag = -1\n",
    "        break\n",
    "    elif not re.search(\"[@%$*]\" , pwd):\n",
    "        flag = -1\n",
    "        break\n",
    "    elif re.search(\"\\s\" , pwd):\n",
    "        flag = -1\n",
    "        break\n",
    "    else:\n",
    "        flag = 0\n",
    "        print(\"valid\")\n",
    "        break\n",
    " \n",
    "if flag == -1:\n",
    "    print(\"invalid\")"
   ]
  },
  {
   "cell_type": "code",
   "execution_count": 25,
   "id": "0309fc44",
   "metadata": {},
   "outputs": [
    {
     "name": "stdout",
     "output_type": "stream",
     "text": [
      "invalid\n"
     ]
    }
   ],
   "source": [
    "# A valid customer ID:\n",
    "# -It will have groups of three characters separated by \"_\".\n",
    "# -Can only contain numbers 0-9 and characters a-z and A-Z.(other than \"_\")\n",
    "# -Contains 12 characters excluding the \"_\"\n",
    "# -A character cannot be repeated more than thrice.\n",
    "def validitycheck(cid):\n",
    "    #req1: a-z and 0-9 only \n",
    "    if not (cid.replace(\"_\",\"\").isalnum()):\n",
    "        return (\"invalid\")\n",
    "    #req2 & 3 :4 groups, each group has three characters with a-z, A-Z and 0-9\n",
    "    groups=cid.split(\"_\")\n",
    "    if len(groups)>4:\n",
    "        return (\"invalid\")\n",
    "    for group in groups:\n",
    "        if len(group)>3:\n",
    "            return (\"invalid\")\n",
    "    \n",
    "    #Req 5: repeating characters check\n",
    "    from collections import Counter\n",
    "    counts=dict(Counter(cid))\n",
    "    for key in counts.keys():\n",
    "        if counts.get(key)>3:\n",
    "            return(\"invalid\")\n",
    "    return(\"valid\")\n",
    "    \n",
    "cid=input()\n",
    "print(validitycheck(cid))"
   ]
  },
  {
   "cell_type": "markdown",
   "id": "68357914",
   "metadata": {},
   "source": [
    "Divide the dataframe\n",
    "Write a Python program to slice a dataframe in a given ratio.\n",
    "For example: if the dataframe has 160 rows and you have to slice it in a ratio of 1:3, then the first part will have the first 40 rows(0-39) and the second part will have the next 120 rows(40-159).\n",
    "The input will have two lines with the ratio to separate the dataframe in. For example, for 1:3, the input will be as follows:\n",
    "1\n",
    "3\n",
    "The output should contain the summary statistics(df.describe()) of both resulting dataframes in the respective order.\n",
    "Note: You can assume that the given ratio will split the dataframe exactly into two non-fractional parts.\n",
    "Sample Input:\n",
    "10\n",
    "30"
   ]
  },
  {
   "cell_type": "code",
   "execution_count": 29,
   "id": "eb0f4b9b",
   "metadata": {},
   "outputs": [
    {
     "name": "stdout",
     "output_type": "stream",
     "text": [
      "10\n",
      "30\n",
      "Original DataFrame:\n",
      "      Age Cabin        Date Embarked     Fare  \\\n",
      "0    34.5   NaN  1979-10-07        Q   7.8292   \n",
      "1    47.0   NaN  1979-10-07        S   7.0000   \n",
      "2    62.0   NaN  1979-10-07        Q   9.6875   \n",
      "3    27.0   NaN  1979-10-07        S   8.6625   \n",
      "4    22.0   NaN  1979-10-07        S  12.2875   \n",
      "..    ...   ...         ...      ...      ...   \n",
      "831   NaN   NaN         NaN      NaN      NaN   \n",
      "832   NaN   NaN         NaN      NaN      NaN   \n",
      "833   NaN   NaN         NaN      NaN      NaN   \n",
      "834   NaN   NaN         NaN      NaN      NaN   \n",
      "835   NaN   NaN         NaN      NaN      NaN   \n",
      "\n",
      "                                             Name  Parch  PassengerId  Pclass  \\\n",
      "0                                Kelly, Mr. James    0.0        892.0     3.0   \n",
      "1                Wilkes, Mrs. James (Ellen Needs)    0.0        893.0     3.0   \n",
      "2                       Myles, Mr. Thomas Francis    0.0        894.0     2.0   \n",
      "3                                Wirz, Mr. Albert    0.0        895.0     3.0   \n",
      "4    Hirvonen, Mrs. Alexander (Helga E Lindqvist)    1.0        896.0     3.0   \n",
      "..                                            ...    ...          ...     ...   \n",
      "831                                           NaN    NaN          NaN     NaN   \n",
      "832                                           NaN    NaN          NaN     NaN   \n",
      "833                                           NaN    NaN          NaN     NaN   \n",
      "834                                           NaN    NaN          NaN     NaN   \n",
      "835                                           NaN    NaN          NaN     NaN   \n",
      "\n",
      "        Sex ShipName  SibSp   Ticket  \n",
      "0      male  Titanic    0.0   330911  \n",
      "1    female  Titanic    1.0   363272  \n",
      "2      male  Titanic    0.0   240276  \n",
      "3      male  Titanic    0.0   315154  \n",
      "4    female  Titanic    1.0  3101298  \n",
      "..      ...      ...    ...      ...  \n",
      "831     NaN      NaN    NaN      NaN  \n",
      "832     NaN      NaN    NaN      NaN  \n",
      "833     NaN      NaN    NaN      NaN  \n",
      "834     NaN      NaN    NaN      NaN  \n",
      "835     NaN      NaN    NaN      NaN  \n",
      "\n",
      "[836 rows x 13 columns]\n"
     ]
    },
    {
     "ename": "ValueError",
     "evalue": "Replace has to be set to `True` when upsampling the population `frac` > 1.",
     "output_type": "error",
     "traceback": [
      "\u001b[1;31m---------------------------------------------------------------------------\u001b[0m",
      "\u001b[1;31mValueError\u001b[0m                                Traceback (most recent call last)",
      "\u001b[1;32m~\\AppData\\Local\\Temp\\ipykernel_20488\\4221818101.py\u001b[0m in \u001b[0;36m<module>\u001b[1;34m\u001b[0m\n\u001b[0;32m      6\u001b[0m \u001b[0mprint\u001b[0m\u001b[1;33m(\u001b[0m\u001b[1;34m\"Original DataFrame:\"\u001b[0m\u001b[1;33m)\u001b[0m\u001b[1;33m\u001b[0m\u001b[1;33m\u001b[0m\u001b[0m\n\u001b[0;32m      7\u001b[0m \u001b[0mprint\u001b[0m\u001b[1;33m(\u001b[0m\u001b[0mdf\u001b[0m\u001b[1;33m)\u001b[0m\u001b[1;33m\u001b[0m\u001b[1;33m\u001b[0m\u001b[0m\n\u001b[1;32m----> 8\u001b[1;33m \u001b[0mpart_10\u001b[0m \u001b[1;33m=\u001b[0m \u001b[0mdf\u001b[0m\u001b[1;33m.\u001b[0m\u001b[0msample\u001b[0m\u001b[1;33m(\u001b[0m\u001b[0mfrac\u001b[0m\u001b[1;33m=\u001b[0m\u001b[0mfc\u001b[0m\u001b[1;33m.\u001b[0m\u001b[0mFraction\u001b[0m\u001b[1;33m(\u001b[0m\u001b[0ma\u001b[0m\u001b[1;33m)\u001b[0m\u001b[1;33m)\u001b[0m\u001b[1;33m\u001b[0m\u001b[1;33m\u001b[0m\u001b[0m\n\u001b[0m\u001b[0;32m      9\u001b[0m \u001b[0mpart_30\u001b[0m \u001b[1;33m=\u001b[0m \u001b[0mdf\u001b[0m\u001b[1;33m.\u001b[0m\u001b[0mdrop\u001b[0m\u001b[1;33m(\u001b[0m\u001b[0mpart_10\u001b[0m\u001b[1;33m.\u001b[0m\u001b[0mindex\u001b[0m\u001b[1;33m,\u001b[0m\u001b[0minplace\u001b[0m\u001b[1;33m=\u001b[0m\u001b[1;32mTrue\u001b[0m\u001b[1;33m)\u001b[0m\u001b[1;33m\u001b[0m\u001b[1;33m\u001b[0m\u001b[0m\n\u001b[0;32m     10\u001b[0m \u001b[0mprint\u001b[0m\u001b[1;33m(\u001b[0m\u001b[1;34m\"\\n10% of the said DataFrame:\"\u001b[0m\u001b[1;33m)\u001b[0m\u001b[1;33m\u001b[0m\u001b[1;33m\u001b[0m\u001b[0m\n",
      "\u001b[1;32m~\\Anaconda3\\lib\\site-packages\\pandas\\core\\generic.py\u001b[0m in \u001b[0;36msample\u001b[1;34m(self, n, frac, replace, weights, random_state, axis, ignore_index)\u001b[0m\n\u001b[0;32m   5436\u001b[0m         \u001b[0mrs\u001b[0m \u001b[1;33m=\u001b[0m \u001b[0mcom\u001b[0m\u001b[1;33m.\u001b[0m\u001b[0mrandom_state\u001b[0m\u001b[1;33m(\u001b[0m\u001b[0mrandom_state\u001b[0m\u001b[1;33m)\u001b[0m\u001b[1;33m\u001b[0m\u001b[1;33m\u001b[0m\u001b[0m\n\u001b[0;32m   5437\u001b[0m \u001b[1;33m\u001b[0m\u001b[0m\n\u001b[1;32m-> 5438\u001b[1;33m         \u001b[0msize\u001b[0m \u001b[1;33m=\u001b[0m \u001b[0msample\u001b[0m\u001b[1;33m.\u001b[0m\u001b[0mprocess_sampling_size\u001b[0m\u001b[1;33m(\u001b[0m\u001b[0mn\u001b[0m\u001b[1;33m,\u001b[0m \u001b[0mfrac\u001b[0m\u001b[1;33m,\u001b[0m \u001b[0mreplace\u001b[0m\u001b[1;33m)\u001b[0m\u001b[1;33m\u001b[0m\u001b[1;33m\u001b[0m\u001b[0m\n\u001b[0m\u001b[0;32m   5439\u001b[0m         \u001b[1;32mif\u001b[0m \u001b[0msize\u001b[0m \u001b[1;32mis\u001b[0m \u001b[1;32mNone\u001b[0m\u001b[1;33m:\u001b[0m\u001b[1;33m\u001b[0m\u001b[1;33m\u001b[0m\u001b[0m\n\u001b[0;32m   5440\u001b[0m             \u001b[1;32massert\u001b[0m \u001b[0mfrac\u001b[0m \u001b[1;32mis\u001b[0m \u001b[1;32mnot\u001b[0m \u001b[1;32mNone\u001b[0m\u001b[1;33m\u001b[0m\u001b[1;33m\u001b[0m\u001b[0m\n",
      "\u001b[1;32m~\\Anaconda3\\lib\\site-packages\\pandas\\core\\sample.py\u001b[0m in \u001b[0;36mprocess_sampling_size\u001b[1;34m(n, frac, replace)\u001b[0m\n\u001b[0;32m    101\u001b[0m         \u001b[1;32massert\u001b[0m \u001b[0mfrac\u001b[0m \u001b[1;32mis\u001b[0m \u001b[1;32mnot\u001b[0m \u001b[1;32mNone\u001b[0m  \u001b[1;31m# for mypy\u001b[0m\u001b[1;33m\u001b[0m\u001b[1;33m\u001b[0m\u001b[0m\n\u001b[0;32m    102\u001b[0m         \u001b[1;32mif\u001b[0m \u001b[0mfrac\u001b[0m \u001b[1;33m>\u001b[0m \u001b[1;36m1\u001b[0m \u001b[1;32mand\u001b[0m \u001b[1;32mnot\u001b[0m \u001b[0mreplace\u001b[0m\u001b[1;33m:\u001b[0m\u001b[1;33m\u001b[0m\u001b[1;33m\u001b[0m\u001b[0m\n\u001b[1;32m--> 103\u001b[1;33m             raise ValueError(\n\u001b[0m\u001b[0;32m    104\u001b[0m                 \u001b[1;34m\"Replace has to be set to `True` when \"\u001b[0m\u001b[1;33m\u001b[0m\u001b[1;33m\u001b[0m\u001b[0m\n\u001b[0;32m    105\u001b[0m                 \u001b[1;34m\"upsampling the population `frac` > 1.\"\u001b[0m\u001b[1;33m\u001b[0m\u001b[1;33m\u001b[0m\u001b[0m\n",
      "\u001b[1;31mValueError\u001b[0m: Replace has to be set to `True` when upsampling the population `frac` > 1."
     ]
    }
   ],
   "source": [
    "import pandas as pd \n",
    "df=pd.read_csv(\"https://media-doselect.s3.amazonaws.com/generic/A0zOxQvk78ONwRgLZ1WYJOxWq/titaniMod2.csv\")\n",
    "a=int(input())\n",
    "b=int(input())\n",
    "c=int(a/(a+b)*len(df))\n",
    "print(df[:c].describe())\n",
    "print(df[c:].describe())"
   ]
  }
 ],
 "metadata": {
  "kernelspec": {
   "display_name": "Python 3 (ipykernel)",
   "language": "python",
   "name": "python3"
  },
  "language_info": {
   "codemirror_mode": {
    "name": "ipython",
    "version": 3
   },
   "file_extension": ".py",
   "mimetype": "text/x-python",
   "name": "python",
   "nbconvert_exporter": "python",
   "pygments_lexer": "ipython3",
   "version": "3.9.13"
  }
 },
 "nbformat": 4,
 "nbformat_minor": 5
}
