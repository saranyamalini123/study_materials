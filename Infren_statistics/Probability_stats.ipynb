{
 "cells": [
  {
   "cell_type": "code",
   "execution_count": 1,
   "id": "d836092c",
   "metadata": {},
   "outputs": [],
   "source": [
    "import numpy as np \n",
    "import scipy.stats as ss "
   ]
  },
  {
   "cell_type": "markdown",
   "id": "346b4d7d",
   "metadata": {},
   "source": [
    "#### Binomial Distribution "
   ]
  },
  {
   "cell_type": "code",
   "execution_count": 2,
   "id": "21fbbdd6",
   "metadata": {},
   "outputs": [],
   "source": [
    "#P(X=r)=ncr * p*r(1-p)n-r\n",
    "n=10\n",
    "r=4\n",
    "p=0.4"
   ]
  },
  {
   "cell_type": "code",
   "execution_count": 3,
   "id": "1905d7ca",
   "metadata": {},
   "outputs": [
    {
     "data": {
      "text/plain": [
       "0.25082265599999987"
      ]
     },
     "execution_count": 3,
     "metadata": {},
     "output_type": "execute_result"
    }
   ],
   "source": [
    "#calculate the probability \n",
    "ss.binom.pmf(r,n,p)"
   ]
  },
  {
   "cell_type": "code",
   "execution_count": 4,
   "id": "a43d60eb",
   "metadata": {},
   "outputs": [
    {
     "data": {
      "text/plain": [
       "0.251"
      ]
     },
     "execution_count": 4,
     "metadata": {},
     "output_type": "execute_result"
    }
   ],
   "source": [
    "np.round(ss.binom.pmf(r,n,p),3)"
   ]
  },
  {
   "cell_type": "code",
   "execution_count": 5,
   "id": "cb4c8c8a",
   "metadata": {},
   "outputs": [
    {
     "data": {
      "text/plain": [
       "0.633"
      ]
     },
     "execution_count": 5,
     "metadata": {},
     "output_type": "execute_result"
    }
   ],
   "source": [
    "#cumulative distribution \n",
    "np.round(ss.binom.cdf(r,n,p),3)"
   ]
  },
  {
   "cell_type": "markdown",
   "id": "24a50ecb",
   "metadata": {},
   "source": [
    "### Normal Distribution"
   ]
  },
  {
   "cell_type": "code",
   "execution_count": 6,
   "id": "efe6cd9b",
   "metadata": {},
   "outputs": [],
   "source": [
    "#given mean and standard deviation\n",
    "M=60\n",
    "sd=10\n",
    "x=40"
   ]
  },
  {
   "cell_type": "code",
   "execution_count": 9,
   "id": "e82e1b6e",
   "metadata": {},
   "outputs": [
    {
     "data": {
      "text/plain": [
       "0.022750131948179195"
      ]
     },
     "execution_count": 9,
     "metadata": {},
     "output_type": "execute_result"
    }
   ],
   "source": [
    "#compute for P(X<=x)\n",
    "ss.norm.cdf(x,M,sd)"
   ]
  },
  {
   "cell_type": "code",
   "execution_count": 10,
   "id": "a9058ad5",
   "metadata": {},
   "outputs": [
    {
     "data": {
      "text/plain": [
       "0.022750131948179195"
      ]
     },
     "execution_count": 10,
     "metadata": {},
     "output_type": "execute_result"
    }
   ],
   "source": [
    "#compute the normal dist and then cumulative dist\n",
    "ss.norm(60,10).cdf(40)"
   ]
  },
  {
   "cell_type": "code",
   "execution_count": 11,
   "id": "db42bc3b",
   "metadata": {},
   "outputs": [
    {
     "data": {
      "text/plain": [
       "0.9544997361036416"
      ]
     },
     "execution_count": 11,
     "metadata": {},
     "output_type": "execute_result"
    }
   ],
   "source": [
    "ss.norm.cdf(80,60,10) -ss.norm.cdf(40,60,10)"
   ]
  },
  {
   "cell_type": "markdown",
   "id": "df218703",
   "metadata": {},
   "source": [
    "### Random Numbers"
   ]
  },
  {
   "cell_type": "code",
   "execution_count": 14,
   "id": "01755985",
   "metadata": {},
   "outputs": [],
   "source": [
    "?np.random"
   ]
  },
  {
   "cell_type": "markdown",
   "id": "f681ee54",
   "metadata": {},
   "source": [
    "   #### 1. Binomial distribution"
   ]
  },
  {
   "cell_type": "code",
   "execution_count": 15,
   "id": "3a3284c1",
   "metadata": {},
   "outputs": [],
   "source": [
    "?np.random.binomial"
   ]
  },
  {
   "cell_type": "code",
   "execution_count": 16,
   "id": "b45b7486",
   "metadata": {},
   "outputs": [],
   "source": [
    "#generate radom 10 samples for the given \n",
    "n=10\n",
    "p=0.4\n",
    "size=10"
   ]
  },
  {
   "cell_type": "code",
   "execution_count": 17,
   "id": "130d079a",
   "metadata": {},
   "outputs": [
    {
     "data": {
      "text/plain": [
       "array([5, 8, 3, 3, 5, 4, 4, 4, 4, 5])"
      ]
     },
     "execution_count": 17,
     "metadata": {},
     "output_type": "execute_result"
    }
   ],
   "source": [
    "np.random.binomial(n,p,size)"
   ]
  },
  {
   "cell_type": "markdown",
   "id": "08f9d795",
   "metadata": {},
   "source": [
    "#### 2.Normal distribution"
   ]
  },
  {
   "cell_type": "code",
   "execution_count": 18,
   "id": "9626ab1c",
   "metadata": {},
   "outputs": [],
   "source": [
    "?np.random.normal"
   ]
  },
  {
   "cell_type": "code",
   "execution_count": 19,
   "id": "224f6e83",
   "metadata": {},
   "outputs": [],
   "source": [
    "#given mean and sd \n",
    "M=60\n",
    "sd=10"
   ]
  },
  {
   "cell_type": "code",
   "execution_count": 21,
   "id": "41e31e7c",
   "metadata": {},
   "outputs": [
    {
     "data": {
      "text/plain": [
       "array([62.00669816, 56.97359645, 62.12912813, 60.31510773, 54.78559368,\n",
       "       74.12634993, 62.47216941, 65.5165207 , 53.44357615, 47.26047515])"
      ]
     },
     "execution_count": 21,
     "metadata": {},
     "output_type": "execute_result"
    }
   ],
   "source": [
    "np.random.normal(M,sd,10)"
   ]
  },
  {
   "cell_type": "markdown",
   "id": "e01f16d3",
   "metadata": {},
   "source": [
    "#### Seed\n",
    "\n",
    "In order to keep the output fixed we use seed "
   ]
  },
  {
   "cell_type": "code",
   "execution_count": 22,
   "id": "7d087474",
   "metadata": {},
   "outputs": [],
   "source": [
    "?np.random.seed"
   ]
  },
  {
   "cell_type": "code",
   "execution_count": 29,
   "id": "464d7dce",
   "metadata": {},
   "outputs": [],
   "source": [
    "seed=100\n",
    "np.random.seed(seed)"
   ]
  },
  {
   "cell_type": "markdown",
   "id": "922920d1",
   "metadata": {},
   "source": [
    "###### The seed has to be intialised each time to get the same output"
   ]
  },
  {
   "cell_type": "code",
   "execution_count": 27,
   "id": "873578bc",
   "metadata": {},
   "outputs": [
    {
     "data": {
      "text/plain": [
       "array([42.50234527, 63.42680403, 71.53035803, 57.47563963, 69.81320787,\n",
       "       65.14218841, 62.21179669, 49.29956669, 58.10504169, 62.55001444])"
      ]
     },
     "execution_count": 27,
     "metadata": {},
     "output_type": "execute_result"
    }
   ],
   "source": [
    "np.random.normal(M,sd,10)"
   ]
  },
  {
   "cell_type": "code",
   "execution_count": 30,
   "id": "bdd382f1",
   "metadata": {},
   "outputs": [
    {
     "data": {
      "text/plain": [
       "array([42.50234527, 63.42680403, 71.53035803, 57.47563963, 69.81320787,\n",
       "       65.14218841, 62.21179669, 49.29956669, 58.10504169, 62.55001444])"
      ]
     },
     "execution_count": 30,
     "metadata": {},
     "output_type": "execute_result"
    }
   ],
   "source": [
    "np.random.normal(M,sd,10)"
   ]
  },
  {
   "cell_type": "markdown",
   "id": "8864bcb1",
   "metadata": {},
   "source": [
    "### Combinations"
   ]
  },
  {
   "cell_type": "code",
   "execution_count": 31,
   "id": "96a61cbf",
   "metadata": {},
   "outputs": [],
   "source": [
    "from itertools import combinations"
   ]
  },
  {
   "cell_type": "markdown",
   "id": "5f2b03a7",
   "metadata": {},
   "source": [
    "given list containing n number of objects , we can find all combinations of size r"
   ]
  },
  {
   "cell_type": "code",
   "execution_count": 32,
   "id": "3022c9bf",
   "metadata": {},
   "outputs": [],
   "source": [
    "alpha ='ABCD'"
   ]
  },
  {
   "cell_type": "code",
   "execution_count": 34,
   "id": "f10365c3",
   "metadata": {},
   "outputs": [
    {
     "data": {
      "text/plain": [
       "<itertools.combinations at 0x24dbd4cc270>"
      ]
     },
     "execution_count": 34,
     "metadata": {},
     "output_type": "execute_result"
    }
   ],
   "source": [
    "p=combinations(alpha,3)\n",
    "p"
   ]
  },
  {
   "cell_type": "code",
   "execution_count": 36,
   "id": "a3fc76ed",
   "metadata": {},
   "outputs": [
    {
     "data": {
      "text/plain": [
       "[('A', 'B', 'C'), ('A', 'B', 'D'), ('A', 'C', 'D'), ('B', 'C', 'D')]"
      ]
     },
     "execution_count": 36,
     "metadata": {},
     "output_type": "execute_result"
    }
   ],
   "source": [
    "list(p)"
   ]
  },
  {
   "cell_type": "code",
   "execution_count": 37,
   "id": "53bb9daf",
   "metadata": {},
   "outputs": [],
   "source": [
    "alpha=['A','B','C','D']"
   ]
  },
  {
   "cell_type": "code",
   "execution_count": 40,
   "id": "42505819",
   "metadata": {},
   "outputs": [
    {
     "data": {
      "text/plain": [
       "[('A', 'B', 'C'), ('A', 'B', 'D'), ('A', 'C', 'D'), ('B', 'C', 'D')]"
      ]
     },
     "execution_count": 40,
     "metadata": {},
     "output_type": "execute_result"
    }
   ],
   "source": [
    "p=combinations(alpha,3)\n",
    "list(p)"
   ]
  },
  {
   "cell_type": "code",
   "execution_count": 41,
   "id": "5b643c97",
   "metadata": {},
   "outputs": [
    {
     "data": {
      "text/plain": [
       "[(1, 2), (1, 3), (2, 3)]"
      ]
     },
     "execution_count": 41,
     "metadata": {},
     "output_type": "execute_result"
    }
   ],
   "source": [
    "num=[1,2,3]\n",
    "p=combinations(num,2)\n",
    "list(p)"
   ]
  },
  {
   "cell_type": "code",
   "execution_count": 42,
   "id": "fc4dbc38",
   "metadata": {},
   "outputs": [
    {
     "name": "stdout",
     "output_type": "stream",
     "text": [
      "(1, 2)\n",
      "(2, 3)\n"
     ]
    }
   ],
   "source": [
    "for c in combinations(num,2):\n",
    "    if 2 in c:\n",
    "        print(c)"
   ]
  },
  {
   "cell_type": "code",
   "execution_count": 43,
   "id": "8531594f",
   "metadata": {},
   "outputs": [
    {
     "name": "stdout",
     "output_type": "stream",
     "text": [
      "('A', 'B')\n",
      "('A', 'C')\n",
      "('A', 'D')\n"
     ]
    }
   ],
   "source": [
    "for c in combinations(alpha,2):\n",
    "    if 'A' in c:\n",
    "        print(c)"
   ]
  }
 ],
 "metadata": {
  "kernelspec": {
   "display_name": "Python 3 (ipykernel)",
   "language": "python",
   "name": "python3"
  },
  "language_info": {
   "codemirror_mode": {
    "name": "ipython",
    "version": 3
   },
   "file_extension": ".py",
   "mimetype": "text/x-python",
   "name": "python",
   "nbconvert_exporter": "python",
   "pygments_lexer": "ipython3",
   "version": "3.9.13"
  }
 },
 "nbformat": 4,
 "nbformat_minor": 5
}
