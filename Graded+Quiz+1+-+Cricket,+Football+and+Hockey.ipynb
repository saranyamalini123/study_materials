{
 "cells": [
  {
   "cell_type": "markdown",
   "metadata": {},
   "source": [
    "In a school, there are total 100 students numbered from 1 to 100. You’re given three lists named ‘C’, ‘F’, and ‘H’, representing students who play cricket, football, and hockey, respectively. Based on this information, find out and print the following: \n",
    "- Students who play all the three sports\n",
    "- Students who play both cricket and football but don’t play hockey\n",
    "- Students who play exactly two of the sports\n",
    "- Students who don’t play any of the three sports"
   ]
  },
  {
   "cell_type": "code",
   "execution_count": 55,
   "metadata": {},
   "outputs": [
    {
     "name": "stdout",
     "output_type": "stream",
     "text": [
      "1: [40, 95]\n",
      "2: [20, 21, 25, 62, 67, 71, 75, 76, 82]\n",
      "{32, 34, 68, 7, 40, 39, 43, 44, 77, 22, 30, 90, 93, 94, 95}\n",
      "{67, 71, 75, 76, 77, 82, 20, 21, 22, 25, 94, 30, 95, 39, 40, 44, 62}\n",
      "{67, 68, 7, 71, 75, 76, 82, 20, 21, 25, 90, 93, 95, 32, 34, 40, 43, 62}\n"
     ]
    },
    {
     "data": {
      "text/plain": [
       "19"
      ]
     },
     "execution_count": 55,
     "metadata": {},
     "output_type": "execute_result"
    }
   ],
   "source": [
    "C = [7, 8, 9, 18, 20, 21, 25, 26, 27, 31, 32, 34, 35, 36, 40, 43, 45, 47, 53, 58, 62, 67, 68, 71, 72, 74, 75, 76, 80, 81, 82, 90, 93, 95, 97, 99]\n",
    "F = [1, 7, 10, 13, 16, 22, 24, 29, 30, 32, 34, 39, 40, 43, 44, 48, 56, 60, 65, 68, 69, 73, 77, 78, 90, 93, 94, 95, 96]\n",
    "H = [5, 12, 14, 17, 20, 21, 22, 25, 28, 30, 37, 38, 39, 40, 42, 44, 57, 59, 61, 62, 67, 71, 75, 76, 77, 82, 83, 86, 87, 92, 94, 95]\n",
    "\n",
    "C1=set(C)\n",
    "F1=set(F)\n",
    "H1=set(H)\n",
    "\n",
    "set1 =C1.intersection(F1)\n",
    "set2 =set1.intersection(H1)\n",
    "print(\"1:\",list(set2))\n",
    "\n",
    "\n",
    "l1= list(C1)\n",
    "l2 =list(F1)\n",
    "l3 =list(H1)\n",
    "\n",
    "ch= [ x for x in l1 if x in l3]\n",
    "\n",
    "nh=[ x for x in ch if x not in l2]\n",
    "\n",
    "print(\"2:\",nh)\n",
    "\n",
    "l4 =[ x for x in l1 if x in l2 and l3]\n",
    "l5=[ x for x in l2 if x in l3 and l1]\n",
    "l6=[ x for x in l3 if x in l1 and l2]\n",
    "\n",
    "set3 =set(l4)|set(l5)\n",
    "set4 =set(l5)|set(l6)\n",
    "set5 =set(l4)| set(l6)\n",
    "\n",
    "print(set3)\n",
    "print(set4)\n",
    "print(set5)\n",
    "\n",
    "lis=[67,71,75,76,82,20,21,22,25,94,30,90,93,77,32,34,43,44,62]\n",
    "len(lis)\n",
    "\n"
   ]
  },
  {
   "cell_type": "code",
   "execution_count": 61,
   "metadata": {},
   "outputs": [
    {
     "name": "stdout",
     "output_type": "stream",
     "text": [
      "22\n",
      "[2, 3, 4, 6, 11, 15, 19, 23, 33, 41, 46, 49, 50, 51, 52, 54, 55, 63, 64, 66, 70, 79, 84, 85, 88, 89, 91, 98]\n"
     ]
    }
   ],
   "source": [
    "print(len(sorted(list(((C1 & F1) | (F1 & H1) | (C1 & H1)) - (C1 & F1 & H1)))))\n",
    "\n",
    "print((sorted(list(set(range(1,100)) - (C1 | F1 | H1)))))"
   ]
  },
  {
   "cell_type": "markdown",
   "metadata": {},
   "source": [
    "#### Q1. Which are the students who play all the three sports?\n",
    "- [22, 39]\n",
    "- [39, 82]\n",
    "- [40, 95]\n",
    "- [82, 94]"
   ]
  },
  {
   "cell_type": "markdown",
   "metadata": {},
   "source": [
    "#### Q2. Which are the players who play both cricket and hockey but don't play football?\n",
    "- [20, 21, 25, 62, 67, 71, 75, 76, 82]\n",
    "- [20, 21, 22, 25, 30, 32, 34]\n",
    "- [20, 21, 22, 25, 30, 32, 34, 39, 43, 44, 62]\n",
    "- [20, 21, 68, 71, 75, 76]"
   ]
  },
  {
   "cell_type": "markdown",
   "metadata": {},
   "source": [
    "#### Q3. How many players play exactly two sports?\n",
    "- 19\n",
    "- 20\n",
    "- 21\n",
    "- 22"
   ]
  },
  {
   "cell_type": "markdown",
   "metadata": {},
   "source": [
    "#### Q4. Which of these students do not play any of the sports? (More than one option may be correct)\n",
    "- 41\n",
    "- 48\n",
    "- 63\n",
    "- 85"
   ]
  }
 ],
 "metadata": {
  "kernelspec": {
   "display_name": "Python 3 (ipykernel)",
   "language": "python",
   "name": "python3"
  },
  "language_info": {
   "codemirror_mode": {
    "name": "ipython",
    "version": 3
   },
   "file_extension": ".py",
   "mimetype": "text/x-python",
   "name": "python",
   "nbconvert_exporter": "python",
   "pygments_lexer": "ipython3",
   "version": "3.9.13"
  }
 },
 "nbformat": 4,
 "nbformat_minor": 2
}
