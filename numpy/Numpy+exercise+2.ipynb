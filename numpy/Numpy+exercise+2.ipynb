{
 "cells": [
  {
   "cell_type": "markdown",
   "metadata": {},
   "source": [
    "# Exercise Background\n",
    "\n",
    "This small application based coding exercise is ment to expose you to the use of the numpy library as well as give you a taste of tasks that you might be needed to perform during machine learning. \n",
    "\n",
    "Usually, machine learning involves working on large data sets. This notebook will walk you through normalising the data and then dividing the data set into smaller subsets. It is recommended that while attempting each of the tasks visit the NumPy library to find the most appropriate function which can help you achieve the desired result. More often than not you will find the functions which you require prewritten in the library. The **numpy library** can be found [here.](https://numpy.org/doc/stable/) \n",
    "\n",
    "Without further ado, the first task is to mean normalise a data set. Mean normalising is a data transformation done to reduce the variations in the data set. For example, consider a data set which has integers between 0 and 10000. That is a lot of variation, and it becomes difficult to build ML algorithms on this data. So mean normalisation is done on such data, after the transformation, the mean of the data will be zero, and standard deviation will be 1.  Even though the actual values of data will change a lot, but the overall variation is still kept intact. If the concept of normalisation feels a bit unclear dont worry all of this will be covered in the future sections of this program. For now, let’s concentrate on the tasks at hand. \n",
    "\n",
    "\n",
    "# Task 1: Mean Normalisation: \n",
    "\n",
    "**Question 1.1** Create a 2D of random integers between 0 and 10,000 (including both 0 and 10,000) with 25000 rows and 15 columns. This will be the dataset you will use in the notebook. "
   ]
  },
  {
   "cell_type": "code",
   "execution_count": 10,
   "metadata": {},
   "outputs": [
    {
     "data": {
      "text/plain": [
       "(25000, 15)"
      ]
     },
     "execution_count": 10,
     "metadata": {},
     "output_type": "execute_result"
    }
   ],
   "source": [
    "# import NumPy into Python\n",
    "import numpy as np\n",
    "\n",
    "# Create a 25000 x 15 ndarray with random integers in the interval [0, 10000].\n",
    "array_1=np.random.randint(0,high = 10001, size = (25000,15))\n",
    "\n",
    "\n",
    "\n",
    "# print the shape of X\n",
    "array_1.shape\n"
   ]
  },
  {
   "cell_type": "code",
   "execution_count": 13,
   "metadata": {},
   "outputs": [
    {
     "name": "stdout",
     "output_type": "stream",
     "text": [
      "[[6876 9130 2965 ... 9626 6897 3606]\n",
      " [1958 1300 3949 ... 6652 5573 9814]\n",
      " [2146 8535 8372 ... 4124 4510 9885]\n",
      " ...\n",
      " [2903 9205 6628 ... 6080 5089 8037]\n",
      " [4049 4676 2920 ... 4479 9564 1395]\n",
      " [3108 8273 6590 ... 5095 7221 1599]]\n",
      "[1958 1300 3949 1609 3812 1472 6013 7972 8058 2505 9454 1823 6652 5573\n",
      " 9814]\n"
     ]
    }
   ],
   "source": [
    "# print the first row of X\n",
    "print(array_1)\n",
    "print(array_1[1])"
   ]
  },
  {
   "cell_type": "markdown",
   "metadata": {},
   "source": [
    "Now that you created the array we will mean normalize it. The equation for normalisaing the data is given below:\n",
    "\n",
    "$\\mbox{Norm_Col}_i = \\frac{\\mbox{Col}_i - \\mu_i}{\\sigma_i}$\n",
    "\n",
    "where $\\mbox{Col}_i$ is the $i$th column of $X$, $\\mu_i$ is average of the values in the $i$th column of $X$, and $\\sigma_i$ is the standard deviation of the values in the $i$th column of $X$. To put it simply, to find the new value of each element, you have to subtract the mean of respective column form that value and divide the result with the standard deviation of that columns. Now the question is, Why are these operations being done column-wise? That is because usually all the procedures in ML are done column-wise. So it will be beneficial for us to develop the habit of thinking about data column-wise.   "
   ]
  },
  {
   "cell_type": "markdown",
   "metadata": {},
   "source": [
    "**Question 1.2** Find the mean and the standard deviation of each of the columns in the dataset. The result will be two 1D arrays with 15 elements each, representing the mean and standard deviation for each of the columns in the dataset.  "
   ]
  },
  {
   "cell_type": "code",
   "execution_count": 15,
   "metadata": {},
   "outputs": [
    {
     "name": "stdout",
     "output_type": "stream",
     "text": [
      "ave_cols: \n",
      " [4978.43408 4989.49616 4983.36256 5011.83268 4999.31512 4968.1144\n",
      " 5012.11232 4981.81296 5026.46652 4995.17204 4981.84512 4986.3466\n",
      " 5002.33172 5044.52456 4997.50428] \n",
      "\n",
      "std_cols: \n",
      " [2890.87609666 2889.91600604 2894.33938375 2882.29728445 2891.5125229\n",
      " 2884.85650368 2884.75546809 2889.61895854 2891.01444981 2879.14760268\n",
      " 2880.4565092  2892.57248407 2881.25457989 2878.46771755 2878.49654731] \n",
      "\n"
     ]
    }
   ],
   "source": [
    "# Average of the values in each column of X\n",
    "ave_cols=np.average(array_1,axis=0)\n",
    "\n",
    "# print ave_cols  \n",
    "print (\"ave_cols: \\n\", ave_cols,\"\\n\")\n",
    "\n",
    "# Standard Deviation of the values in each column of X\n",
    "std_cols=np.std(array_1,axis=0)\n",
    "\n",
    "# print std_cols  \n",
    "print (\"std_cols: \\n\", std_cols,\"\\n\")"
   ]
  },
  {
   "cell_type": "markdown",
   "metadata": {},
   "source": [
    "**Question 1.3** Print the shape of each both the arrays, they should have 15 elements each.  "
   ]
  },
  {
   "cell_type": "code",
   "execution_count": 17,
   "metadata": {},
   "outputs": [
    {
     "name": "stdout",
     "output_type": "stream",
     "text": [
      "(15,)\n",
      "(15,)\n"
     ]
    }
   ],
   "source": [
    "# Print the shape of ave_cols\n",
    "print(ave_cols.shape)\n",
    "# Print the shape of std_cols\n",
    "print(std_cols.shape)"
   ]
  },
  {
   "cell_type": "markdown",
   "metadata": {},
   "source": [
    "**Question 1.4** Now that you have mean and standard deviation calculated, it is time to apply the transformation to the dataset. \n",
    " \n",
    "**HINT** The broadcast property of NumPy can make this a lot easier. You can read about it [here](https://numpy.org/doc/stable/user/basics.broadcasting.html).\n",
    "All you have to do is create one row of transformation values and repeat them through all the values."
   ]
  },
  {
   "cell_type": "code",
   "execution_count": 19,
   "metadata": {},
   "outputs": [
    {
     "name": "stdout",
     "output_type": "stream",
     "text": [
      "[[ 0.65639822  1.43274193 -0.69734827 ...  1.60474132  0.64356304\n",
      "  -0.48341357]\n",
      " [-1.04481617 -1.27667937 -0.35737432 ...  0.57255207  0.1835961\n",
      "   1.67326785]\n",
      " [-0.97978398  1.22685359  1.17078096 ... -0.3048435  -0.1856976\n",
      "   1.6979335 ]\n",
      " ...\n",
      " [-0.71792564  1.45869424  0.5682255  ...  0.37402744  0.01545108\n",
      "   1.05593169]\n",
      " [-0.32150602 -0.10847933 -0.71289586 ... -0.18163328  1.57009766\n",
      "  -1.25152288]\n",
      " [-0.64701288  1.13619352  0.55509642 ...  0.03216248  0.75612293\n",
      "  -1.18065255]]\n"
     ]
    }
   ],
   "source": [
    "# Mean normalize X\n",
    "x_norm=(array_1-ave_cols)/std_cols\n",
    "\n",
    "print(x_norm)"
   ]
  },
  {
   "cell_type": "markdown",
   "metadata": {},
   "source": [
    "**Question 1.5** If the transformation has been performed correctly, the mean of elements in each column will be approximately 0. Also, the average of the **minimum** value in each column of X_norm and the average of the **maximum** value in each column of X_norm will have almost the same face value with opposite signs. Let’s confirm if the transformation has happened correctly. "
   ]
  },
  {
   "cell_type": "code",
   "execution_count": 23,
   "metadata": {},
   "outputs": [
    {
     "name": "stdout",
     "output_type": "stream",
     "text": [
      "average of all the values of X_norm:  -2.0463630789890887e-17\n",
      "average of the minimum value in each column of X_norm:  -1.731528113643081\n",
      "average of the maximum value in each column of X_norm:  1.7334520290258244\n"
     ]
    }
   ],
   "source": [
    "# Print the average of all the values of X_norm\n",
    "print(\"average of all the values of X_norm: \",np.average(x_norm))\n",
    "\n",
    "# Print the average of the minimum value in each column of X_norm\n",
    "print(\"average of the minimum value in each column of X_norm: \",np.average(x_norm.min(axis=0)))\n",
    "\n",
    "# Print the average of the maximum value in each column of X_norm\n",
    "print(\"average of the maximum value in each column of X_norm: \",np.average(x_norm.max(axis=0)))"
   ]
  },
  {
   "cell_type": "markdown",
   "metadata": {},
   "source": [
    "Be mindful that the exact values might not match since the dataset was initialized using the random function. \n",
    "\n",
    "# Data Spliting \n",
    "\n",
    "After data processing, it is a regular practice in ML to split the dataset into three datasets. \n",
    "\n",
    "1. A Training Set\n",
    "2. A Cross Validation Set\n",
    "3. A Test Set\n",
    "\n",
    "The ratios in which the data is split varies a bit from case to case. But the accepted standard 6:2:2 for train, test, and validation respectively. That is 60% for training data and so on. Again why is the data split or what is the signification of these smaller data sets? These questions are better left unanswered for now. \n",
    "The tanks assigned to you is to split the data in the given proportions randomly. \n",
    "For instance, if the data set had ten elements, this is how you would do it. "
   ]
  },
  {
   "cell_type": "code",
   "execution_count": 11,
   "metadata": {},
   "outputs": [
    {
     "data": {
      "text/plain": [
       "array([8, 3, 7, 5, 2, 6, 1, 9, 0, 4])"
      ]
     },
     "execution_count": 11,
     "metadata": {},
     "output_type": "execute_result"
    }
   ],
   "source": [
    "# We create a random permutation of integers 0 to 9\n",
    "np.random.permutation(10)"
   ]
  },
  {
   "cell_type": "markdown",
   "metadata": {},
   "source": [
    "1. training set = 8,3,7,5,2,6\n",
    "2. Cross Validation Set = 1,9\n",
    "3. Test Set = 0,4"
   ]
  },
  {
   "cell_type": "markdown",
   "metadata": {},
   "source": [
    "**Question 2.1** Similarly, create a 1D array representing the indexes of the rows in the dataset X_norm. U can use the   `np.random.permutation()` function for randomising the indexes. "
   ]
  },
  {
   "cell_type": "code",
   "execution_count": 24,
   "metadata": {},
   "outputs": [],
   "source": [
    "# Create a rank 1 ndarray that contains a random permutation of the row indices of `X_norm`\n",
    "row_indices = np.random.permutation(np.arange(0,25000))"
   ]
  },
  {
   "cell_type": "code",
   "execution_count": 25,
   "metadata": {},
   "outputs": [
    {
     "data": {
      "text/plain": [
       "(25000,)"
      ]
     },
     "execution_count": 25,
     "metadata": {},
     "output_type": "execute_result"
    }
   ],
   "source": [
    "# Print the shape of row_indices\n",
    "row_indices.shape"
   ]
  },
  {
   "cell_type": "markdown",
   "metadata": {},
   "source": [
    "**Question 2.2** Split the row indexes in the needed proportions. You can use the slicing methods you have learnt in this session to make the job easier.  "
   ]
  },
  {
   "cell_type": "code",
   "execution_count": 29,
   "metadata": {},
   "outputs": [
    {
     "data": {
      "text/plain": [
       "(5000,)"
      ]
     },
     "execution_count": 29,
     "metadata": {},
     "output_type": "execute_result"
    }
   ],
   "source": [
    "# Make any necessary calculations.\n",
    "# You can save your calculations into variables to use later.\n",
    "train = row_indices[:15000]\n",
    "test = row_indices[15000:20000]\n",
    "val  = row_indices[20000:]\n",
    "\n",
    "val.shape"
   ]
  },
  {
   "cell_type": "markdown",
   "metadata": {},
   "source": [
    "**Question 2.3** Now make use of the indexes that you made to split the data also similarly once the data is split print the shape of each of the smaller data sets. `X_train` should have 15000 rows and 15 columns. `X_test` should have 5000 rows and 15 columns. `X_val` should have 5000 rows and 15 columns. "
   ]
  },
  {
   "cell_type": "code",
   "execution_count": 30,
   "metadata": {},
   "outputs": [],
   "source": [
    "# Create a Training Set\n",
    "X_train=x_norm[train]\n",
    "\n",
    "# Create a Cross Validation Set\n",
    "X_Val = x_norm[val]\n",
    "\n",
    "# Create a Test Set\n",
    "X_test=x_norm[test]"
   ]
  },
  {
   "cell_type": "code",
   "execution_count": 31,
   "metadata": {},
   "outputs": [
    {
     "name": "stdout",
     "output_type": "stream",
     "text": [
      "(15000, 15)\n",
      "(5000, 15)\n",
      "(5000, 15)\n"
     ]
    }
   ],
   "source": [
    "# Print the shape of X_train\n",
    "print(X_train.shape)\n",
    "\n",
    "# Print the shape of X_crossVal\n",
    "print(X_Val.shape)\n",
    "\n",
    "# Print the shape of X_test\n",
    "print(X_test.shape)"
   ]
  }
 ],
 "metadata": {
  "kernelspec": {
   "display_name": "Python 3 (ipykernel)",
   "language": "python",
   "name": "python3"
  },
  "language_info": {
   "codemirror_mode": {
    "name": "ipython",
    "version": 3
   },
   "file_extension": ".py",
   "mimetype": "text/x-python",
   "name": "python",
   "nbconvert_exporter": "python",
   "pygments_lexer": "ipython3",
   "version": "3.9.13"
  }
 },
 "nbformat": 4,
 "nbformat_minor": 2
}
